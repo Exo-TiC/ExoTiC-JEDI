{
 "cells": [
  {
   "cell_type": "code",
   "execution_count": 1,
   "id": "3e94f89a",
   "metadata": {},
   "outputs": [],
   "source": [
    "import matplotlib.pyplot as plt\n",
    "import numpy as np\n",
    "from astropy.io import fits\n",
    "import os\n",
    "import glob"
   ]
  },
  {
   "cell_type": "markdown",
   "id": "a6f1a3ee",
   "metadata": {},
   "source": [
    "Point to files and where we want the times to save"
   ]
  },
  {
   "cell_type": "code",
   "execution_count": 2,
   "id": "88c7c500",
   "metadata": {},
   "outputs": [],
   "source": [
    "path_to_raw_data_nrs1 = '/location/of/NRS1/files/'\n",
    "\n",
    "path_to_raw_data_nrs2 = '/location/of/NRS1/files/'"
   ]
  },
  {
   "cell_type": "code",
   "execution_count": null,
   "id": "1ad3d6fc",
   "metadata": {},
   "outputs": [],
   "source": [
    "reduction_dir = '/your_directory/PLANET_VISIT/'\n",
    "ancillary_dir = os.path.join(reduction_dir, 'ancillar')\n",
    "version_dir = os.path.join(reduction_dir, 'reduction_v1')\n",
    "stage_1_dir = os.path.join(version_dir, 'stage_1')\n",
    "for _dir in [ancillary_dir, version_dir, stage_1_dir]:\n",
    "    if not os.path.exists(_dir):\n",
    "        os.mkdir(_dir)\n",
    "        \n",
    "output_path = ancillary_dir"
   ]
  },
  {
   "cell_type": "code",
   "execution_count": 3,
   "id": "f2256e9b",
   "metadata": {},
   "outputs": [],
   "source": [
    "#uncal_files = sorted(glob.glob(path_to_raw_data+'*uncal.fits'))\n",
    "\n",
    "uncal_nrs1_files = sorted(glob.glob(path_to_raw_data_nrs1+'*nrs1_uncal.fits'))\n",
    "uncal_nrs2_files = sorted(glob.glob(path_to_raw_data_nrs2+'*nrs2_uncal.fits'))"
   ]
  },
  {
   "cell_type": "markdown",
   "id": "238c0ad4",
   "metadata": {},
   "source": [
    "Ram nrs1 and nrs2 files together at high speed"
   ]
  },
  {
   "cell_type": "code",
   "execution_count": 4,
   "id": "872bad4c",
   "metadata": {},
   "outputs": [
    {
     "name": "stdout",
     "output_type": "stream",
     "text": [
      "['/data/praxis2/shared_area/jwst/toi_836_02/g395h/2512_10/stage0/jw02512010001_04102_00001-seg001_nrs1_uncal.fits'\n",
      " '/data/praxis2/shared_area/jwst/toi_836_02/g395h/2512_10/stage0/jw02512010001_04102_00001-seg002_nrs1_uncal.fits'\n",
      " '/data/praxis2/shared_area/jwst/toi_836_02/g395h/2512_10/stage0/jw02512010001_04102_00001-seg003_nrs1_uncal.fits'\n",
      " '/data/praxis2/shared_area/jwst/toi_836_02/g395h/2512_10/stage0/jw02512010001_04102_00001-seg004_nrs1_uncal.fits'\n",
      " '/data/praxis2/shared_area/jwst/toi_836_02/g395h/2512_10/stage0/jw02512010001_04102_00001-seg001_nrs2_uncal.fits'\n",
      " '/data/praxis2/shared_area/jwst/toi_836_02/g395h/2512_10/stage0/jw02512010001_04102_00001-seg002_nrs2_uncal.fits'\n",
      " '/data/praxis2/shared_area/jwst/toi_836_02/g395h/2512_10/stage0/jw02512010001_04102_00001-seg003_nrs2_uncal.fits'\n",
      " '/data/praxis2/shared_area/jwst/toi_836_02/g395h/2512_10/stage0/jw02512010001_04102_00001-seg004_nrs2_uncal.fits']\n"
     ]
    }
   ],
   "source": [
    "all_files = np.hstack((uncal_nrs1_files,uncal_nrs2_files))\n",
    "\n",
    "print(all_files)"
   ]
  },
  {
   "cell_type": "markdown",
   "id": "9f7a8134",
   "metadata": {},
   "source": [
    "Export the entire time array so we can grab mid-points and calculate the integration times later"
   ]
  },
  {
   "cell_type": "code",
   "execution_count": 39,
   "id": "9ff1223f",
   "metadata": {},
   "outputs": [
    {
     "name": "stdout",
     "output_type": "stream",
     "text": [
      "jw01366003001_04101_00001-seg001_nrs1\n",
      "/home/ym20900/ers/testing/jw01366003001_04101_00001-seg001_nrs1_times.txt\n",
      "jw01366003001_04101_00001-seg002_nrs1\n",
      "/home/ym20900/ers/testing/jw01366003001_04101_00001-seg002_nrs1_times.txt\n",
      "jw01366003001_04101_00001-seg003_nrs1\n",
      "/home/ym20900/ers/testing/jw01366003001_04101_00001-seg003_nrs1_times.txt\n",
      "jw01366003001_04101_00001-seg003_nrs2\n",
      "/home/ym20900/ers/testing/jw01366003001_04101_00001-seg003_nrs2_times.txt\n",
      "jw01366003001_04101_00001-seg001_nrs2\n",
      "/home/ym20900/ers/testing/jw01366003001_04101_00001-seg001_nrs2_times.txt\n",
      "jw01366003001_04101_00001-seg002_nrs2\n",
      "/home/ym20900/ers/testing/jw01366003001_04101_00001-seg002_nrs2_times.txt\n"
     ]
    }
   ],
   "source": [
    "for file_no in range(len(all_files)):\n",
    "\n",
    "    use_file = all_files\n",
    "\n",
    "    file_name = use_file[file_no].split('/')[-1].split('uncal.fits')[0][:-1]\n",
    "    print(file_name)\n",
    "\n",
    "    hdul = fits.open(use_file[file_no])\n",
    "    times1 = np.empty((len(hdul['INT_TIMES'].data), len(hdul['INT_TIMES'].data[0])))\n",
    "    for i in range(len(hdul['INT_TIMES'].data[0])):\n",
    "        times1[:, i] = np.array([hdul['INT_TIMES'].data[j][i] for j in range(len(hdul['INT_TIMES'].data))])\n",
    "\n",
    "\n",
    "\n",
    "    # integration number is the 0th entry in each tuple, and you can then pick a 1-6th time\n",
    "    integrations = np.array([hdul['INT_TIMES'].data[j][0] for j in range(len(hdul['INT_TIMES'].data))])\n",
    "    times2 = np.array([hdul['INT_TIMES'].data[j][1] for j in range(len(hdul['INT_TIMES'].data))])\n",
    "\n",
    "    #print(times1.shape)\n",
    "    #print(integrations.shape, times2)\n",
    "\n",
    "    np.savetxt(output_path+file_name+'_times.txt', times1)\n",
    "\n",
    "    print(output_path+file_name+'_times.txt')"
   ]
  },
  {
   "cell_type": "code",
   "execution_count": 5,
   "id": "f5ab43af",
   "metadata": {},
   "outputs": [
    {
     "name": "stdout",
     "output_type": "stream",
     "text": [
      "jw02512010001_04102_0000\n",
      "/home/ym20900/compass/TOI_836_02_v2/ancillaryjw02512010001_04102_0000nrs1_all_segs_times.txt\n",
      "jw02512010001_04102_00001-seg001_nrs1\n",
      "(1524, 7)\n",
      "jw02512010001_04102_00001-seg002_nrs1\n",
      "(3048, 7)\n",
      "jw02512010001_04102_00001-seg003_nrs1\n",
      "(4572, 7)\n",
      "jw02512010001_04102_00001-seg004_nrs1\n",
      "(5259, 7)\n"
     ]
    }
   ],
   "source": [
    "for file_no in range(len(uncal_nrs1_files)):\n",
    "\n",
    "    use_file = uncal_nrs1_files\n",
    "    \n",
    "    if file_no == 0:\n",
    "        set_name = use_file[file_no].split('/')[-1].split('-')[0][:-1]\n",
    "        print(set_name)\n",
    "        print(output_path+set_name+'nrs1_all_segs_times.txt')\n",
    "        \n",
    "    file_name = use_file[file_no].split('/')[-1].split('uncal.fits')[0][:-1]\n",
    "    print(file_name)\n",
    "\n",
    "    hdul = fits.open(use_file[file_no])\n",
    "    times1 = np.empty((len(hdul['INT_TIMES'].data), len(hdul['INT_TIMES'].data[0])))\n",
    "    for i in range(len(hdul['INT_TIMES'].data[0])):\n",
    "        times1[:, i] = np.array([hdul['INT_TIMES'].data[j][i] for j in range(len(hdul['INT_TIMES'].data))])\n",
    "\n",
    "\n",
    "\n",
    "    # integration number is the 0th entry in each tuple, and you can then pick a 1-6th time\n",
    "    integrations = np.array([hdul['INT_TIMES'].data[j][0] for j in range(len(hdul['INT_TIMES'].data))])\n",
    "    times2 = np.array([hdul['INT_TIMES'].data[j][1] for j in range(len(hdul['INT_TIMES'].data))])\n",
    "    \n",
    "    if file_no == 0:\n",
    "        all_times = times1\n",
    "    else:\n",
    "        all_times = np.vstack((all_times, times1))\n",
    "\n",
    "    print(all_times.shape)\n",
    "    #print(integrations.shape, times2)\n",
    "\n",
    "    np.savetxt(output_path+set_name+'_nrs1_all_segs_times.txt', all_times)"
   ]
  },
  {
   "cell_type": "code",
   "execution_count": 6,
   "id": "f824960e",
   "metadata": {},
   "outputs": [
    {
     "name": "stdout",
     "output_type": "stream",
     "text": [
      "jw02512010001_04102_0000\n",
      "/home/ym20900/compass/TOI_836_02_v2/ancillaryjw02512010001_04102_0000nrs2_all_segs_times.txt\n",
      "jw02512010001_04102_00001-seg001_nrs2\n",
      "(1524, 7)\n",
      "jw02512010001_04102_00001-seg002_nrs2\n",
      "(3048, 7)\n",
      "jw02512010001_04102_00001-seg003_nrs2\n",
      "(4572, 7)\n",
      "jw02512010001_04102_00001-seg004_nrs2\n",
      "(5259, 7)\n"
     ]
    }
   ],
   "source": [
    "for file_no in range(len(uncal_nrs2_files)):\n",
    "\n",
    "    use_file = uncal_nrs2_files\n",
    "    \n",
    "    if file_no == 0:\n",
    "        set_name = use_file[file_no].split('/')[-1].split('-')[0][:-1]\n",
    "        print(set_name)\n",
    "        print(output_path+set_name+'nrs2_all_segs_times.txt')\n",
    "        \n",
    "    file_name = use_file[file_no].split('/')[-1].split('uncal.fits')[0][:-1]\n",
    "    print(file_name)\n",
    "\n",
    "    hdul = fits.open(use_file[file_no])\n",
    "    times1 = np.empty((len(hdul['INT_TIMES'].data), len(hdul['INT_TIMES'].data[0])))\n",
    "    for i in range(len(hdul['INT_TIMES'].data[0])):\n",
    "        times1[:, i] = np.array([hdul['INT_TIMES'].data[j][i] for j in range(len(hdul['INT_TIMES'].data))])\n",
    "\n",
    "\n",
    "\n",
    "    # integration number is the 0th entry in each tuple, and you can then pick a 1-6th time\n",
    "    integrations = np.array([hdul['INT_TIMES'].data[j][0] for j in range(len(hdul['INT_TIMES'].data))])\n",
    "    times2 = np.array([hdul['INT_TIMES'].data[j][1] for j in range(len(hdul['INT_TIMES'].data))])\n",
    "    \n",
    "    if file_no == 0:\n",
    "        all_times = times1\n",
    "    else:\n",
    "        all_times = np.vstack((all_times, times1))\n",
    "\n",
    "    print(all_times.shape)\n",
    "    #print(integrations.shape, times2)\n",
    "\n",
    "    np.savetxt(output_path+set_name+'_nrs2_all_segs_times.txt', all_times)"
   ]
  },
  {
   "cell_type": "code",
   "execution_count": null,
   "id": "737fc643",
   "metadata": {},
   "outputs": [],
   "source": []
  }
 ],
 "metadata": {
  "kernelspec": {
   "display_name": "Python 3 (ipykernel)",
   "language": "python",
   "name": "python3"
  },
  "language_info": {
   "codemirror_mode": {
    "name": "ipython",
    "version": 3
   },
   "file_extension": ".py",
   "mimetype": "text/x-python",
   "name": "python",
   "nbconvert_exporter": "python",
   "pygments_lexer": "ipython3",
   "version": "3.8.12"
  }
 },
 "nbformat": 4,
 "nbformat_minor": 5
}
