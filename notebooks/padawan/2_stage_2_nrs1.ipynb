{
 "cells": [
  {
   "cell_type": "code",
   "execution_count": 1,
   "id": "cb6cb2f1",
   "metadata": {},
   "outputs": [],
   "source": [
    "import os\n",
    "import numpy as np\n",
    "import xarray as xr\n",
    "from functools import partial\n",
    "import matplotlib.pyplot as plt\n",
    "import sys\n",
    "import glob"
   ]
  },
  {
   "cell_type": "code",
   "execution_count": 2,
   "id": "941fdfc4",
   "metadata": {},
   "outputs": [],
   "source": [
    "os.environ['CRDS_SERVER_URL'] = 'https://jwst-crds.stsci.edu'\n",
    "os.environ['CRDS_PATH'] = '/YOUR/CRDS/PATH/crds_cache/'"
   ]
  },
  {
   "cell_type": "code",
   "execution_count": 3,
   "id": "9ba85c44",
   "metadata": {},
   "outputs": [
    {
     "name": "stdout",
     "output_type": "stream",
     "text": [
      "Using crds context=jwst_1063.pmap\n"
     ]
    }
   ],
   "source": [
    "from jwst import datamodels\n",
    "from jwst.pipeline import calwebb_spec2\n",
    "import jwst.assign_wcs.nirspec\n",
    "from crds import get_default_context\n",
    "print('Using crds context={}'.format(get_default_context()))\n",
    "\n",
    "from exotic_jedi.stage_2 import GainStep, ReadNoiseStep, FlatFieldStep, \\\n",
    "    WavelengthMapStep, IntegrationTimesStep, StitchChunksStep, \\\n",
    "    InspectDQFlagsStep, CleanOutliersStep, DestripingRateimagesStep, \\\n",
    "    Extract1DBoxStep, Extract1DOptimalStep, AlignSpectraStep"
   ]
  },
  {
   "cell_type": "markdown",
   "id": "0910de10",
   "metadata": {},
   "source": [
    "Point to where stage 1 fits files are"
   ]
  },
  {
   "cell_type": "code",
   "execution_count": 4,
   "id": "7f178772",
   "metadata": {},
   "outputs": [
    {
     "name": "stdout",
     "output_type": "stream",
     "text": [
      "['/home/ym20900/compass/TOI_836_02_v2/reduction_v1/stage_1/jw02512010001_04102_00001-seg001_nrs1_stage_1.fits', '/home/ym20900/compass/TOI_836_02_v2/reduction_v1/stage_1/jw02512010001_04102_00001-seg002_nrs1_stage_1.fits', '/home/ym20900/compass/TOI_836_02_v2/reduction_v1/stage_1/jw02512010001_04102_00001-seg003_nrs1_stage_1.fits', '/home/ym20900/compass/TOI_836_02_v2/reduction_v1/stage_1/jw02512010001_04102_00001-seg004_nrs1_stage_1.fits']\n"
     ]
    }
   ],
   "source": [
    "# Data and version config.\n",
    "data_dir = '/your_directory/PLANET_VISIT/reduction_v1/stage_1/'\n",
    "\n",
    "data_chunks = sorted(glob.glob(data_dir+'*_nrs1_stage_1.fits'))\n",
    "\n",
    "print(data_chunks)"
   ]
  },
  {
   "cell_type": "markdown",
   "id": "9234ee26",
   "metadata": {},
   "source": [
    "Grab all the bits of names of files"
   ]
  },
  {
   "cell_type": "code",
   "execution_count": 5,
   "id": "9154b6ad",
   "metadata": {},
   "outputs": [
    {
     "name": "stdout",
     "output_type": "stream",
     "text": [
      "jw02512010001_04102_00001_nrs1\n"
     ]
    }
   ],
   "source": [
    "data_chunk_names=[]\n",
    "for file in range(len(data_chunks)):\n",
    "    file_name = data_chunks[file].split('/')[-1].split('_stage_1.fit')[0]\n",
    "    data_chunk_names.append(file_name)\n",
    "#print(data_chunk_names)\n",
    "\n",
    "first_name = data_chunks[0].split('/')[-1].split('_stage_1.fit')[0].split('-')[0]\n",
    "data_name = '_'.join([first_name, 'nrs1'])\n",
    "print(data_name)"
   ]
  },
  {
   "cell_type": "markdown",
   "id": "67406b23",
   "metadata": {},
   "source": [
    "Point to where we want everything to get saved to"
   ]
  },
  {
   "cell_type": "code",
   "execution_count": 6,
   "id": "686d709b",
   "metadata": {},
   "outputs": [],
   "source": [
    "reduction_dir = '/your_directory/PLANET_VISIT/'\n",
    "version_dir = os.path.join(reduction_dir, 'reduction_v1')\n",
    "stage_1_dir = os.path.join(version_dir, 'stage_1')\n",
    "stage_2_dir = os.path.join(version_dir, 'stage_2')\n",
    "for _dir in [stage_2_dir, ]:\n",
    "    if not os.path.exists(_dir):\n",
    "        os.mkdir(_dir)"
   ]
  },
  {
   "cell_type": "markdown",
   "id": "322c74bf",
   "metadata": {},
   "source": [
    "Get all the steps set up with the setup step thingy (honestly I have no fucking clue what this does but according to the code gods it is necessary and it is important)"
   ]
  },
  {
   "cell_type": "code",
   "execution_count": 7,
   "id": "f021fbb1",
   "metadata": {},
   "outputs": [
    {
     "name": "stderr",
     "output_type": "stream",
     "text": [
      "2023-03-09 13:34:06,108 - stpipe.AssignWcsStep - INFO - AssignWcsStep instance created.\n",
      "2023-03-09 13:34:06,113 - stpipe.Extract2dStep - INFO - Extract2dStep instance created.\n",
      "2023-03-09 13:34:06,119 - stpipe.SourceTypeStep - INFO - SourceTypeStep instance created.\n",
      "2023-03-09 13:34:06,123 - stpipe.WavecorrStep - INFO - WavecorrStep instance created.\n",
      "2023-03-09 13:34:06,128 - stpipe.GainStep - INFO - GainStep instance created.\n",
      "2023-03-09 13:34:06,131 - stpipe.ReadNoiseStep - INFO - ReadNoiseStep instance created.\n",
      "2023-03-09 13:34:06,135 - stpipe.FlatFieldStep - INFO - FlatFieldStep instance created.\n",
      "2023-03-09 13:34:06,138 - stpipe.WavelengthMapStep - INFO - WavelengthMapStep instance created.\n",
      "2023-03-09 13:34:06,141 - stpipe.IntegrationTimesStep - INFO - IntegrationTimesStep instance created.\n",
      "2023-03-09 13:34:06,144 - stpipe.StitchChunksStep - INFO - StitchChunksStep instance created.\n",
      "2023-03-09 13:34:06,146 - stpipe.InspectDQFlagsStep - INFO - InspectDQFlagsStep instance created.\n",
      "2023-03-09 13:34:06,149 - stpipe.CleanOutliersStep - INFO - CleanOutliersStep instance created.\n",
      "2023-03-09 13:34:06,152 - stpipe.DestripingRateimagesStep - INFO - DestripingRateimagesStep instance created.\n",
      "2023-03-09 13:34:06,156 - stpipe.Extract1DBoxStep - INFO - Extract1DBoxStep instance created.\n",
      "2023-03-09 13:34:06,159 - stpipe.Extract1DOptimalStep - INFO - Extract1DOptimalStep instance created.\n",
      "2023-03-09 13:34:06,163 - stpipe.AlignSpectraStep - INFO - AlignSpectraStep instance created.\n"
     ]
    }
   ],
   "source": [
    "# Instantiate STScI steps for NIRSpec stage 2.\n",
    "stsci_assign_wcs = calwebb_spec2.assign_wcs_step.AssignWcsStep()\n",
    "stsci_extract_2d = calwebb_spec2.extract_2d_step.Extract2dStep()\n",
    "stsci_srctype = calwebb_spec2.srctype_step.SourceTypeStep()\n",
    "stsci_wavecorr = calwebb_spec2.wavecorr_step.WavecorrStep()\n",
    "\n",
    "# Mod extract_2d trimming by updating wcs_step slit info.\n",
    "jwst.assign_wcs.nirspec.nrs_wcs_set_input = partial(\n",
    "    jwst.assign_wcs.nirspec.nrs_wcs_set_input,\n",
    "    wavelength_range=[2.3e-06, 5.3e-06], slit_y_low=-1, slit_y_high=50)\n",
    "\n",
    "# Instantiate Custom steps for NIRSpec stage 2.\n",
    "custom_gain = GainStep()\n",
    "custom_readnoise = ReadNoiseStep()\n",
    "custom_flat = FlatFieldStep()\n",
    "custom_wavelength_map = WavelengthMapStep()\n",
    "custom_integration_times = IntegrationTimesStep()\n",
    "stitch_chunks = StitchChunksStep()\n",
    "inspect_dq_flags = InspectDQFlagsStep()\n",
    "clean_outliers = CleanOutliersStep()\n",
    "destripe_rateimages = DestripingRateimagesStep()\n",
    "extract_1d_box = Extract1DBoxStep()\n",
    "extract_1d_optimal = Extract1DOptimalStep()\n",
    "align_spectra = AlignSpectraStep()"
   ]
  },
  {
   "cell_type": "code",
   "execution_count": 8,
   "id": "9a598221",
   "metadata": {},
   "outputs": [],
   "source": [
    "# Read in any chunk.\n",
    "stage_1_any_data_chunk = os.path.join(\n",
    "    stage_1_dir, '{}_stage_1.fits'.format(data_chunk_names[0]))\n",
    "dm_any_stage_1 = datamodels.CubeModel(stage_1_any_data_chunk)"
   ]
  },
  {
   "cell_type": "markdown",
   "id": "ca1ff5fa",
   "metadata": {},
   "source": [
    "### Auxiliary Data"
   ]
  },
  {
   "cell_type": "code",
   "execution_count": 9,
   "id": "15a2ab91",
   "metadata": {
    "scrolled": true
   },
   "outputs": [
    {
     "name": "stderr",
     "output_type": "stream",
     "text": [
      "2023-03-09 13:34:22,417 - CRDS - INFO -  Fetching  /home/ym20900/crds_cache/mappings/jwst/jwst_nirspec_ote_0028.rmap    1.2 K bytes  (1 / 3 files) (0 / 6.9 K bytes)\n",
      "2023-03-09 13:34:22,735 - CRDS - INFO -  Fetching  /home/ym20900/crds_cache/mappings/jwst/jwst_nirspec_0317.imap    5.2 K bytes  (2 / 3 files) (1.2 K / 6.9 K bytes)\n",
      "2023-03-09 13:34:23,057 - CRDS - INFO -  Fetching  /home/ym20900/crds_cache/mappings/jwst/jwst_1063.pmap        580 bytes  (3 / 3 files) (6.4 K / 6.9 K bytes)\n",
      "2023-03-09 13:34:24,136 - stpipe - CRITICAL - config: {'pre_hooks': [], 'post_hooks': [], 'output_file': None, 'output_dir': None, 'output_ext': '.fits', 'output_use_model': False, 'output_use_index': True, 'save_results': False, 'skip': False, 'suffix': None, 'search_output_file': True, 'input_dir': None, 'sip_approx': True, 'sip_max_pix_error': 0.25, 'sip_degree': None, 'sip_max_inv_pix_error': 0.25, 'sip_inv_degree': None, 'sip_npoints': 32, 'slit_y_low': -0.55, 'slit_y_high': 0.55, 'override_distortion': None, 'override_filteroffset': None, 'override_specwcs': None, 'override_regions': None, 'override_wavelengthrange': None, 'override_camera': None, 'override_collimator': None, 'override_disperser': None, 'override_fore': None, 'override_fpa': None, 'override_msa': None, 'override_ote': None, 'override_ifupost': None, 'override_ifufore': None, 'override_ifuslicer': None}\n",
      "\n",
      "\n",
      "2023-03-09 13:34:24,145 - stpipe.AssignWcsStep - INFO - AssignWcsStep instance created.\n",
      "2023-03-09 13:34:24,547 - stpipe.AssignWcsStep - INFO - Step AssignWcsStep running with args (<CubeModel(1524, 32, 2048) from jw02512010001_04102_00001-seg001_nrs1_stage_1.fits>,).\n",
      "2023-03-09 13:34:24,554 - stpipe.AssignWcsStep - INFO - Step AssignWcsStep parameters are: {'pre_hooks': [], 'post_hooks': [], 'output_file': None, 'output_dir': None, 'output_ext': '.fits', 'output_use_model': False, 'output_use_index': True, 'save_results': False, 'skip': False, 'suffix': None, 'search_output_file': True, 'input_dir': '', 'sip_approx': True, 'sip_max_pix_error': 0.25, 'sip_degree': None, 'sip_max_inv_pix_error': 0.25, 'sip_inv_degree': None, 'sip_npoints': 32, 'slit_y_low': -0.55, 'slit_y_high': 0.55}\n",
      "2023-03-09 13:34:25,131 - CRDS - INFO -  Fetching  /home/ym20900/crds_cache/references/jwst/nirspec/jwst_nirspec_ote_0011.asdf    7.6 K bytes  (1 / 1 files) (0 / 7.6 K bytes)\n",
      "2023-03-09 13:34:25,792 - stpipe.AssignWcsStep - INFO - gwa_ytilt is 0.1441251639999317 deg\n",
      "2023-03-09 13:34:25,797 - stpipe.AssignWcsStep - INFO - gwa_xtilt is 0.3179056999999937 deg\n",
      "2023-03-09 13:34:25,801 - stpipe.AssignWcsStep - INFO - theta_y correction: 0.0016623043407606828 deg\n",
      "2023-03-09 13:34:25,807 - stpipe.AssignWcsStep - INFO - theta_x correction: -0.0002621800043680385 deg\n",
      "2023-03-09 13:34:26,756 - stpipe.AssignWcsStep - INFO - Slits projected on detector NRS1: ['S1600A1']\n",
      "2023-03-09 13:34:26,761 - stpipe.AssignWcsStep - INFO - Computing WCS for 1 open slitlets\n",
      "2023-03-09 13:34:26,976 - stpipe.AssignWcsStep - INFO - gwa_ytilt is 0.1441251639999317 deg\n",
      "2023-03-09 13:34:26,979 - stpipe.AssignWcsStep - INFO - gwa_xtilt is 0.3179056999999937 deg\n",
      "2023-03-09 13:34:26,983 - stpipe.AssignWcsStep - INFO - theta_y correction: 0.0016623043407606828 deg\n",
      "2023-03-09 13:34:26,989 - stpipe.AssignWcsStep - INFO - theta_x correction: -0.0002621800043680385 deg\n",
      "2023-03-09 13:34:27,057 - stpipe.AssignWcsStep - INFO - SPORDER= -1, wrange=[2.87e-06, 5.27e-06]\n",
      "2023-03-09 13:34:27,342 - stpipe.AssignWcsStep - INFO - Applied Barycentric velocity correction : 1.0000898788506818\n",
      "2023-03-09 13:34:27,455 - stpipe.AssignWcsStep - INFO - There are 0 open slits in quadrant 1\n",
      "2023-03-09 13:34:27,457 - stpipe.AssignWcsStep - INFO - There are 0 open slits in quadrant 2\n",
      "2023-03-09 13:34:27,458 - stpipe.AssignWcsStep - INFO - There are 0 open slits in quadrant 3\n",
      "2023-03-09 13:34:27,460 - stpipe.AssignWcsStep - INFO - There are 0 open slits in quadrant 4\n",
      "2023-03-09 13:34:27,462 - stpipe.AssignWcsStep - INFO - There are 1 open slits in quadrant 5\n",
      "2023-03-09 13:34:28,157 - stpipe.AssignWcsStep - WARNING - /home/ym20900/miniconda3/envs/jwst/lib/python3.10/site-packages/asdf/asdf.py:348: AsdfWarning: File 'file:///home/ym20900/crds_cache/references/jwst/nirspec/jwst_nirspec_ote_0011.asdf' was created with extension class 'asdf.extension.BuiltinExtension' (from package asdf==2.13.0), but older package (asdf==2.12.0) is installed.\n",
      "  warnings.warn(msg, AsdfWarning)\n",
      "\n",
      "2023-03-09 13:34:28,159 - stpipe.AssignWcsStep - WARNING - /home/ym20900/miniconda3/envs/jwst/lib/python3.10/site-packages/asdf/asdf.py:348: AsdfWarning: File 'file:///home/ym20900/crds_cache/references/jwst/nirspec/jwst_nirspec_ote_0011.asdf' was created with extension URI 'asdf://asdf-format.org/transform/extensions/transform-1.5.0' (from package asdf-astropy==0.2.2), but older package (asdf-astropy==0.2.1) is installed.\n",
      "  warnings.warn(msg, AsdfWarning)\n",
      "\n",
      "2023-03-09 13:34:28,170 - stpipe.AssignWcsStep - INFO - Created a NIRSPEC nrs_brightobj pipeline with references {'distortion': None, 'filteroffset': None, 'specwcs': None, 'regions': None, 'wavelengthrange': '/home/ym20900/crds_cache/references/jwst/nirspec/jwst_nirspec_wavelengthrange_0006.asdf', 'camera': '/home/ym20900/crds_cache/references/jwst/nirspec/jwst_nirspec_camera_0008.asdf', 'collimator': '/home/ym20900/crds_cache/references/jwst/nirspec/jwst_nirspec_collimator_0008.asdf', 'disperser': '/home/ym20900/crds_cache/references/jwst/nirspec/jwst_nirspec_disperser_0067.asdf', 'fore': '/home/ym20900/crds_cache/references/jwst/nirspec/jwst_nirspec_fore_0051.asdf', 'fpa': '/home/ym20900/crds_cache/references/jwst/nirspec/jwst_nirspec_fpa_0009.asdf', 'msa': '/home/ym20900/crds_cache/references/jwst/nirspec/jwst_nirspec_msa_0009.asdf', 'ote': '/home/ym20900/crds_cache/references/jwst/nirspec/jwst_nirspec_ote_0011.asdf', 'ifupost': None, 'ifufore': None, 'ifuslicer': None}\n",
      "2023-03-09 13:34:30,559 - stpipe.AssignWcsStep - INFO - COMPLETED assign_wcs\n",
      "2023-03-09 13:34:30,595 - stpipe.AssignWcsStep - INFO - Results used CRDS context: jwst_1063.pmap\n",
      "2023-03-09 13:34:30,597 - stpipe.AssignWcsStep - INFO - Step AssignWcsStep done\n",
      "2023-03-09 13:34:30,629 - stpipe - CRITICAL - config: {'pre_hooks': [], 'post_hooks': [], 'output_file': None, 'output_dir': None, 'output_ext': '.fits', 'output_use_model': False, 'output_use_index': True, 'save_results': False, 'skip': False, 'suffix': None, 'search_output_file': True, 'input_dir': None, 'slit_name': None, 'extract_orders': None, 'grism_objects': None, 'tsgrism_extract_height': None, 'wfss_extract_half_height': 5, 'wfss_mmag_extract': None, 'wfss_nbright': 1000, 'override_wavelengthrange': None}\n",
      "\n",
      "\n",
      "2023-03-09 13:34:30,632 - stpipe.Extract2dStep - INFO - Extract2dStep instance created.\n",
      "2023-03-09 13:34:31,242 - stpipe.Extract2dStep - INFO - Step Extract2dStep running with args (<CubeModel(1524, 32, 2048) from jw02512010001_04102_00001-seg001_nrs1_stage_1.fits>,).\n",
      "2023-03-09 13:34:31,245 - stpipe.Extract2dStep - INFO - Step Extract2dStep parameters are: {'pre_hooks': [], 'post_hooks': [], 'output_file': None, 'output_dir': None, 'output_ext': '.fits', 'output_use_model': False, 'output_use_index': True, 'save_results': False, 'skip': False, 'suffix': None, 'search_output_file': True, 'input_dir': '', 'slit_name': None, 'extract_orders': None, 'grism_objects': None, 'tsgrism_extract_height': None, 'wfss_extract_half_height': 5, 'wfss_mmag_extract': None, 'wfss_nbright': 1000}\n",
      "2023-03-09 13:34:31,310 - stpipe.Extract2dStep - INFO - EXP_TYPE is NRS_BRIGHTOBJ\n",
      "2023-03-09 13:34:31,851 - stpipe.Extract2dStep - INFO - Name of subarray extracted: S1600A1\n",
      "2023-03-09 13:34:31,855 - stpipe.Extract2dStep - INFO - Subarray x-extents are: 0 2048\n",
      "2023-03-09 13:34:31,858 - stpipe.Extract2dStep - INFO - Subarray y-extents are: 0 39\n",
      "2023-03-09 13:34:36,446 - stpipe.Extract2dStep - INFO - set slit_attributes completed\n",
      "2023-03-09 13:34:36,462 - stpipe.Extract2dStep - INFO - Update S_REGION to POLYGON ICRS  225.079493951 -24.453943071 225.078990234 -24.454118831 225.079168705 -24.454532345 225.079672452 -24.454356629\n",
      "2023-03-09 13:34:36,464 - stpipe.Extract2dStep - INFO - extract_2d updated S_REGION to POLYGON ICRS  225.079493951 -24.453943071 225.078990234 -24.454118831 225.079168705 -24.454532345 225.079672452 -24.454356629\n"
     ]
    },
    {
     "name": "stderr",
     "output_type": "stream",
     "text": [
      "2023-03-09 13:34:36,472 - stpipe.Extract2dStep - INFO - Results used CRDS context: jwst_1063.pmap\n",
      "2023-03-09 13:34:36,473 - stpipe.Extract2dStep - INFO - Step Extract2dStep done\n",
      "2023-03-09 13:34:37,864 - stpipe - CRITICAL - config: {'pre_hooks': [], 'post_hooks': [], 'output_file': None, 'output_dir': None, 'output_ext': '.fits', 'output_use_model': False, 'output_use_index': True, 'save_results': False, 'skip': False, 'suffix': None, 'search_output_file': True, 'input_dir': None, 'source_type': None}\n",
      "\n",
      "\n",
      "2023-03-09 13:34:37,869 - stpipe.SourceTypeStep - INFO - SourceTypeStep instance created.\n",
      "2023-03-09 13:34:38,220 - stpipe.SourceTypeStep - INFO - Step SourceTypeStep running with args (<SlitModel(1524, 32, 2048) from jw02512010001_04102_00001-seg001_nrs1_stage_1.fits>,).\n",
      "2023-03-09 13:34:38,221 - stpipe.SourceTypeStep - INFO - Step SourceTypeStep parameters are: {'pre_hooks': [], 'post_hooks': [], 'output_file': None, 'output_dir': None, 'output_ext': '.fits', 'output_use_model': False, 'output_use_index': True, 'save_results': False, 'skip': False, 'suffix': None, 'search_output_file': True, 'input_dir': '', 'source_type': None}\n",
      "2023-03-09 13:34:38,470 - stpipe.SourceTypeStep - INFO - Input EXP_TYPE is NRS_BRIGHTOBJ\n",
      "2023-03-09 13:34:38,473 - stpipe.SourceTypeStep - INFO - Input SRCTYAPT = POINT\n",
      "2023-03-09 13:34:38,475 - stpipe.SourceTypeStep - INFO - Input is a TSO exposure; setting SRCTYPE = POINT\n",
      "2023-03-09 13:34:38,483 - stpipe.SourceTypeStep - INFO - Step SourceTypeStep done\n",
      "2023-03-09 13:34:38,704 - stpipe - CRITICAL - config: {'pre_hooks': [], 'post_hooks': [], 'output_file': None, 'output_dir': None, 'output_ext': '.fits', 'output_use_model': False, 'output_use_index': True, 'save_results': False, 'skip': False, 'suffix': None, 'search_output_file': True, 'input_dir': None, 'override_wavecorr': None}\n",
      "\n",
      "\n",
      "2023-03-09 13:34:38,705 - stpipe.WavecorrStep - INFO - WavecorrStep instance created.\n",
      "2023-03-09 13:34:38,855 - stpipe.WavecorrStep - INFO - Step WavecorrStep running with args (<SlitModel(1524, 32, 2048) from jw02512010001_04102_00001-seg001_nrs1_stage_1.fits>,).\n",
      "2023-03-09 13:34:38,857 - stpipe.WavecorrStep - INFO - Step WavecorrStep parameters are: {'pre_hooks': [], 'post_hooks': [], 'output_file': None, 'output_dir': None, 'output_ext': '.fits', 'output_use_model': False, 'output_use_index': True, 'save_results': False, 'skip': False, 'suffix': None, 'search_output_file': True, 'input_dir': ''}\n",
      "2023-03-09 13:34:39,285 - stpipe.WavecorrStep - INFO - Using WAVECORR reference file /home/ym20900/crds_cache/references/jwst/nirspec/jwst_nirspec_wavecorr_0003.asdf\n",
      "2023-03-09 13:34:45,973 - stpipe.WavecorrStep - INFO - Detected a POINT source type in slit S1600A1\n",
      "2023-03-09 13:34:45,974 - stpipe.WavecorrStep - INFO - slit name S1600A1\n",
      "2023-03-09 13:34:45,976 - stpipe.WavecorrStep - INFO - xoffset, yoffset, 6.53851785742146e-11, -7.4741919963574e-11\n",
      "2023-03-09 13:34:45,999 - stpipe.WavecorrStep - INFO - Source X/Y position in the slit: -0.004592915534201511, -0.00968196854368989\n",
      "2023-03-09 13:34:46,323 - stpipe.WavecorrStep - INFO - Using wavelength zero-point correction for aperture S1600A1\n",
      "2023-03-09 13:34:46,352 - stpipe.WavecorrStep - INFO - Results used CRDS context: jwst_1063.pmap\n",
      "2023-03-09 13:34:46,353 - stpipe.WavecorrStep - INFO - Step WavecorrStep done\n",
      "2023-03-09 13:34:46,579 - CRDS - ERROR -  Error determining best reference for 'pars-gainstep'  =   Unknown reference type 'pars-gainstep'\n",
      "2023-03-09 13:34:46,584 - stpipe - CRITICAL - config: {'data_base_name': 'jw02512010001_04102_00001_nrs1', 'data_chunk_name': 'jw02512010001_04102_00001-seg001_nrs1', 'stage_1_dir': '/home/ym20900/compass/TOI_836_02_v2/reduction_v1/stage_1', 'stage_2_dir': '/home/ym20900/compass/TOI_836_02_v2/reduction_v1/stage_2', 'trim_col_start': 5, 'trim_col_end': -5, 'median_value': True, 'pre_hooks': [], 'post_hooks': [], 'output_file': None, 'output_dir': None, 'output_ext': '.fits', 'output_use_model': False, 'output_use_index': True, 'save_results': False, 'skip': False, 'suffix': None, 'search_output_file': True, 'input_dir': None}\n",
      "\n",
      "\n",
      "2023-03-09 13:34:46,587 - stpipe.GainStep - INFO - GainStep instance created.\n",
      "2023-03-09 13:34:46,886 - stpipe.GainStep - INFO - Step GainStep running with args (<SlitModel(1524, 32, 2048) from jw02512010001_04102_00001-seg001_nrs1_stage_1.fits>,).\n",
      "2023-03-09 13:34:46,888 - stpipe.GainStep - INFO - Step GainStep parameters are: {'pre_hooks': [], 'post_hooks': [], 'output_file': None, 'output_dir': None, 'output_ext': '.fits', 'output_use_model': False, 'output_use_index': True, 'save_results': False, 'skip': False, 'suffix': None, 'search_output_file': True, 'input_dir': '', 'data_base_name': 'jw02512010001_04102_00001_nrs1', 'data_chunk_name': 'jw02512010001_04102_00001-seg001_nrs1', 'stage_1_dir': '/home/ym20900/compass/TOI_836_02_v2/reduction_v1/stage_1', 'stage_2_dir': '/home/ym20900/compass/TOI_836_02_v2/reduction_v1/stage_2', 'trim_col_start': 5, 'trim_col_end': -5, 'median_value': True}\n",
      "2023-03-09 13:34:47,092 - stpipe.GainStep - INFO - Getting subarray position.\n",
      "2023-03-09 13:34:47,319 - stpipe.GainStep - INFO - Getting gain.\n",
      "2023-03-09 13:34:47,442 - stpipe.GainStep - INFO - Median gain=1.4155629873275757 electrons/DN.\n",
      "2023-03-09 13:34:47,445 - stpipe.GainStep - INFO - Step GainStep done\n",
      "2023-03-09 13:34:47,667 - CRDS - ERROR -  Error determining best reference for 'pars-readnoisestep'  =   Unknown reference type 'pars-readnoisestep'\n",
      "2023-03-09 13:34:47,669 - stpipe - CRITICAL - config: {'gain_value': 1.4155629873275757, 'data_base_name': 'jw02512010001_04102_00001_nrs1', 'data_chunk_name': 'jw02512010001_04102_00001-seg001_nrs1', 'stage_1_dir': '/home/ym20900/compass/TOI_836_02_v2/reduction_v1/stage_1', 'stage_2_dir': '/home/ym20900/compass/TOI_836_02_v2/reduction_v1/stage_2', 'trim_col_start': 5, 'trim_col_end': -5, 'median_value': True, 'pre_hooks': [], 'post_hooks': [], 'output_file': None, 'output_dir': None, 'output_ext': '.fits', 'output_use_model': False, 'output_use_index': True, 'save_results': False, 'skip': False, 'suffix': None, 'search_output_file': True, 'input_dir': None}\n",
      "\n",
      "\n",
      "2023-03-09 13:34:47,670 - stpipe.ReadNoiseStep - INFO - ReadNoiseStep instance created.\n",
      "2023-03-09 13:34:47,829 - stpipe.ReadNoiseStep - INFO - Step ReadNoiseStep running with args (<SlitModel(1524, 32, 2048) from jw02512010001_04102_00001-seg001_nrs1_stage_1.fits>,).\n",
      "2023-03-09 13:34:47,831 - stpipe.ReadNoiseStep - INFO - Step ReadNoiseStep parameters are: {'pre_hooks': [], 'post_hooks': [], 'output_file': None, 'output_dir': None, 'output_ext': '.fits', 'output_use_model': False, 'output_use_index': True, 'save_results': False, 'skip': False, 'suffix': None, 'search_output_file': True, 'input_dir': '', 'data_base_name': 'jw02512010001_04102_00001_nrs1', 'data_chunk_name': 'jw02512010001_04102_00001-seg001_nrs1', 'stage_1_dir': '/home/ym20900/compass/TOI_836_02_v2/reduction_v1/stage_1', 'stage_2_dir': '/home/ym20900/compass/TOI_836_02_v2/reduction_v1/stage_2', 'trim_col_start': 5, 'trim_col_end': -5, 'gain_value': 1.4155629873275757, 'median_value': True}\n",
      "2023-03-09 13:34:48,051 - stpipe.ReadNoiseStep - INFO - Getting subarray position.\n",
      "2023-03-09 13:34:48,280 - stpipe.ReadNoiseStep - INFO - Getting readnoise.\n",
      "2023-03-09 13:34:48,366 - stpipe.ReadNoiseStep - INFO - Median readnoise=15.778536796569824 electrons.\n",
      "2023-03-09 13:34:48,368 - stpipe.ReadNoiseStep - INFO - Step ReadNoiseStep done\n",
      "2023-03-09 13:34:48,598 - stpipe - CRITICAL - config: {'data_base_name': 'jw02512010001_04102_00001_nrs1', 'data_chunk_name': 'jw02512010001_04102_00001-seg001_nrs1', 'stage_2_dir': '/home/ym20900/compass/TOI_836_02_v2/reduction_v1/stage_2', 'trim_col_start': 5, 'trim_col_end': -5, 'apply': False, 'skip': True, 'pre_hooks': [], 'post_hooks': [], 'output_file': None, 'output_dir': None, 'output_ext': '.fits', 'output_use_model': False, 'output_use_index': True, 'save_results': False, 'suffix': None, 'search_output_file': True, 'input_dir': None}\n",
      "\n",
      "\n",
      "2023-03-09 13:34:48,600 - stpipe.FlatFieldStep - INFO - FlatFieldStep instance created.\n",
      "2023-03-09 13:34:48,839 - stpipe.FlatFieldStep - INFO - Step FlatFieldStep running with args (<SlitModel(1524, 32, 2048) from jw02512010001_04102_00001-seg001_nrs1_stage_1.fits>,).\n"
     ]
    },
    {
     "name": "stderr",
     "output_type": "stream",
     "text": [
      "2023-03-09 13:34:48,841 - stpipe.FlatFieldStep - INFO - Step FlatFieldStep parameters are: {'pre_hooks': [], 'post_hooks': [], 'output_file': None, 'output_dir': None, 'output_ext': '.fits', 'output_use_model': False, 'output_use_index': True, 'save_results': False, 'skip': True, 'suffix': None, 'search_output_file': True, 'input_dir': '', 'data_base_name': 'jw02512010001_04102_00001_nrs1', 'data_chunk_name': 'jw02512010001_04102_00001-seg001_nrs1', 'stage_2_dir': '/home/ym20900/compass/TOI_836_02_v2/reduction_v1/stage_2', 'trim_col_start': 5, 'trim_col_end': -5, 'apply': False}\n",
      "2023-03-09 13:34:48,842 - stpipe.FlatFieldStep - INFO - Step skipped.\n",
      "2023-03-09 13:34:48,845 - stpipe.FlatFieldStep - INFO - Step FlatFieldStep done\n",
      "2023-03-09 13:34:49,054 - CRDS - ERROR -  Error determining best reference for 'pars-wavelengthmapstep'  =   Unknown reference type 'pars-wavelengthmapstep'\n",
      "2023-03-09 13:34:49,057 - stpipe - CRITICAL - config: {'data_base_name': 'jw02512010001_04102_00001_nrs1', 'stage_2_dir': '/home/ym20900/compass/TOI_836_02_v2/reduction_v1/stage_2', 'trim_col_start': 5, 'trim_col_end': -5, 'pre_hooks': [], 'post_hooks': [], 'output_file': None, 'output_dir': None, 'output_ext': '.fits', 'output_use_model': False, 'output_use_index': True, 'save_results': False, 'skip': False, 'suffix': None, 'search_output_file': True, 'input_dir': None}\n",
      "\n",
      "\n",
      "2023-03-09 13:34:49,059 - stpipe.WavelengthMapStep - INFO - WavelengthMapStep instance created.\n",
      "2023-03-09 13:34:49,244 - stpipe.WavelengthMapStep - INFO - Step WavelengthMapStep running with args (<SlitModel(1524, 32, 2048) from jw02512010001_04102_00001-seg001_nrs1_stage_1.fits>,).\n",
      "2023-03-09 13:34:49,246 - stpipe.WavelengthMapStep - INFO - Step WavelengthMapStep parameters are: {'pre_hooks': [], 'post_hooks': [], 'output_file': None, 'output_dir': None, 'output_ext': '.fits', 'output_use_model': False, 'output_use_index': True, 'save_results': False, 'skip': False, 'suffix': None, 'search_output_file': True, 'input_dir': '', 'data_base_name': 'jw02512010001_04102_00001_nrs1', 'stage_2_dir': '/home/ym20900/compass/TOI_836_02_v2/reduction_v1/stage_2', 'trim_col_start': 5, 'trim_col_end': -5}\n",
      "2023-03-09 13:34:49,475 - stpipe.WavelengthMapStep - INFO - Getting wavelength map.\n",
      "2023-03-09 13:34:49,637 - stpipe.WavelengthMapStep - INFO - Step WavelengthMapStep done\n",
      "2023-03-09 13:34:49,644 - stpipe - WARNING - Input dataset is not an instance of AbstractDataModel.\n",
      "2023-03-09 13:34:49,645 - stpipe - INFO - PARS-INTEGRATIONTIMESSTEP: CRDS parameter reference retrieval disabled.\n",
      "2023-03-09 13:34:49,646 - stpipe - CRITICAL - config: {'data_base_name': 'jw02512010001_04102_00001_nrs1', 'stage_1_dir': '/home/ym20900/compass/TOI_836_02_v2/reduction_v1/stage_1', 'stage_2_dir': '/home/ym20900/compass/TOI_836_02_v2/reduction_v1/stage_2', 'pre_hooks': [], 'post_hooks': [], 'output_file': None, 'output_dir': None, 'output_ext': '.fits', 'output_use_model': False, 'output_use_index': True, 'save_results': False, 'skip': False, 'suffix': None, 'search_output_file': True, 'input_dir': None}\n",
      "\n",
      "\n",
      "2023-03-09 13:34:49,647 - stpipe.IntegrationTimesStep - INFO - IntegrationTimesStep instance created.\n",
      "2023-03-09 13:34:49,804 - stpipe.IntegrationTimesStep - INFO - Step IntegrationTimesStep running with args (['jw02512010001_04102_00001-seg001_nrs1', 'jw02512010001_04102_00001-seg002_nrs1', 'jw02512010001_04102_00001-seg003_nrs1', 'jw02512010001_04102_00001-seg004_nrs1'],).\n",
      "2023-03-09 13:34:49,805 - stpipe.IntegrationTimesStep - INFO - Step IntegrationTimesStep parameters are: {'pre_hooks': [], 'post_hooks': [], 'output_file': None, 'output_dir': None, 'output_ext': '.fits', 'output_use_model': False, 'output_use_index': True, 'save_results': False, 'skip': False, 'suffix': None, 'search_output_file': True, 'input_dir': '', 'data_base_name': 'jw02512010001_04102_00001_nrs1', 'stage_1_dir': '/home/ym20900/compass/TOI_836_02_v2/reduction_v1/stage_1', 'stage_2_dir': '/home/ym20900/compass/TOI_836_02_v2/reduction_v1/stage_2'}\n",
      "2023-03-09 13:34:49,806 - stpipe.IntegrationTimesStep - INFO - Getting integration times.\n",
      "2023-03-09 13:36:08,842 - stpipe.IntegrationTimesStep - INFO - Integration duration=3.6289998795837164 secs\n",
      "2023-03-09 13:36:08,861 - stpipe.IntegrationTimesStep - INFO - Step IntegrationTimesStep done\n"
     ]
    }
   ],
   "source": [
    "# Stage 2 reduction, part 1: auxiliary data.\n",
    "proc = stsci_assign_wcs.call(dm_any_stage_1)\n",
    "proc = stsci_extract_2d.call(proc)\n",
    "proc = stsci_srctype.call(proc)\n",
    "proc = stsci_wavecorr.call(proc)\n",
    "gain = custom_gain.call(\n",
    "    proc, data_base_name=data_name, data_chunk_name=data_chunk_names[0],\n",
    "    stage_1_dir=stage_1_dir, stage_2_dir=stage_2_dir,\n",
    "    trim_col_start=5, trim_col_end=-5, median_value=True)\n",
    "readnoise = custom_readnoise.call(\n",
    "    proc, gain_value=gain, data_base_name=data_name,\n",
    "    data_chunk_name=data_chunk_names[0],\n",
    "    stage_1_dir=stage_1_dir, stage_2_dir=stage_2_dir,\n",
    "    trim_col_start=5, trim_col_end=-5, median_value=True)\n",
    "flat = custom_flat.call(\n",
    "    proc, data_base_name=data_name, data_chunk_name=data_chunk_names[0],\n",
    "    stage_2_dir=stage_2_dir, trim_col_start=5, trim_col_end=-5,\n",
    "    apply=False, skip=True)\n",
    "wavelength_map = custom_wavelength_map.call(\n",
    "    proc, data_base_name=data_name, stage_2_dir=stage_2_dir,\n",
    "    trim_col_start=5, trim_col_end=-5)\n",
    "integration_times, int_time_s = custom_integration_times.call(\n",
    "    data_chunk_names, data_base_name=data_name,\n",
    "    stage_1_dir=stage_1_dir, stage_2_dir=stage_2_dir)"
   ]
  }
 ],
 "metadata": {
  "kernelspec": {
   "display_name": "Python 3 (ipykernel)",
   "language": "python",
   "name": "python3"
  },
  "language_info": {
   "codemirror_mode": {
    "name": "ipython",
    "version": 3
   },
   "file_extension": ".py",
   "mimetype": "text/x-python",
   "name": "python",
   "nbconvert_exporter": "python",
   "pygments_lexer": "ipython3",
   "version": "3.8.12"
  }
 },
 "nbformat": 4,
 "nbformat_minor": 5
}
