{
 "cells": [
  {
   "cell_type": "code",
   "execution_count": 1,
   "id": "d135ed51",
   "metadata": {},
   "outputs": [],
   "source": [
    "import os\n",
    "import numpy as np\n",
    "import xarray as xr\n",
    "from functools import partial\n",
    "import matplotlib.pyplot as plt\n",
    "import sys\n",
    "import glob"
   ]
  },
  {
   "cell_type": "code",
   "execution_count": 2,
   "id": "82b3ed1f",
   "metadata": {},
   "outputs": [],
   "source": [
    "os.environ['CRDS_SERVER_URL'] = 'https://jwst-crds.stsci.edu'\n",
    "os.environ['CRDS_PATH'] = '/YOUR/CRDS/PATH/crds_cache/'"
   ]
  },
  {
   "cell_type": "code",
   "execution_count": 3,
   "id": "d1e4ddd8",
   "metadata": {},
   "outputs": [
    {
     "name": "stdout",
     "output_type": "stream",
     "text": [
      "Using crds context=jwst_1063.pmap\n"
     ]
    }
   ],
   "source": [
    "from jwst import datamodels\n",
    "from jwst.pipeline import calwebb_spec2\n",
    "import jwst.assign_wcs.nirspec\n",
    "from crds import get_default_context\n",
    "print('Using crds context={}'.format(get_default_context()))\n",
    "\n",
    "from exotic_jedi.stage_2 import GainStep, ReadNoiseStep, FlatFieldStep, \\\n",
    "    WavelengthMapStep, IntegrationTimesStep, StitchChunksStep, \\\n",
    "    InspectDQFlagsStep, CleanOutliersStep, DestripingRateimagesStep, \\\n",
    "    Extract1DBoxStep, Extract1DOptimalStep, AlignSpectraStep"
   ]
  },
  {
   "cell_type": "markdown",
   "id": "5c6e9b4e",
   "metadata": {},
   "source": [
    "Point to where stage 1 fits files are"
   ]
  },
  {
   "cell_type": "code",
   "execution_count": 12,
   "id": "e625273e",
   "metadata": {},
   "outputs": [
    {
     "name": "stdout",
     "output_type": "stream",
     "text": [
      "['/home/ym20900/compass/TOI_836_02_v2/reduction_v1/stage_1/jw02512010001_04102_00001-seg001_nrs2_stage_1.fits', '/home/ym20900/compass/TOI_836_02_v2/reduction_v1/stage_1/jw02512010001_04102_00001-seg002_nrs2_stage_1.fits', '/home/ym20900/compass/TOI_836_02_v2/reduction_v1/stage_1/jw02512010001_04102_00001-seg003_nrs2_stage_1.fits', '/home/ym20900/compass/TOI_836_02_v2/reduction_v1/stage_1/jw02512010001_04102_00001-seg004_nrs2_stage_1.fits']\n"
     ]
    }
   ],
   "source": [
    "# Data and version config.\n",
    "data_dir = '/your_directory/PLANET_VISIT/reduction_v1/stage_1/'\n",
    "\n",
    "data_chunks = sorted(glob.glob(data_dir+'*_nrs2_stage_1.fits'))\n",
    "\n",
    "print(data_chunks)"
   ]
  },
  {
   "cell_type": "code",
   "execution_count": 13,
   "id": "69e745df",
   "metadata": {},
   "outputs": [
    {
     "name": "stdout",
     "output_type": "stream",
     "text": [
      "jw02512010001_04102_00001_nrs2\n"
     ]
    }
   ],
   "source": [
    "data_chunk_names=[]\n",
    "for file in range(len(data_chunks)):\n",
    "    file_name = data_chunks[file].split('/')[-1].split('_stage_1.fit')[0]\n",
    "    data_chunk_names.append(file_name)\n",
    "#print(data_chunk_names)\n",
    "\n",
    "first_name = data_chunks[0].split('/')[-1].split('_stage_1.fit')[0].split('-')[0]\n",
    "data_name = '_'.join([first_name, 'nrs2'])\n",
    "print(data_name)"
   ]
  },
  {
   "cell_type": "markdown",
   "id": "eb26eef6",
   "metadata": {},
   "source": [
    "Point to where we want everything to get saved to"
   ]
  },
  {
   "cell_type": "code",
   "execution_count": 14,
   "id": "ab374f48",
   "metadata": {},
   "outputs": [],
   "source": [
    "reduction_dir = '/your_directory/PLANET_VISIT/'\n",
    "version_dir = os.path.join(reduction_dir, 'reduction_v1')\n",
    "stage_1_dir = os.path.join(version_dir, 'stage_1')\n",
    "stage_2_dir = os.path.join(version_dir, 'stage_2') # SEPERATING THEM OUT HERE BC OTHERWISE THE WVL FILES OVERWRITE EACH OTHER AND EVERYTHING IS HELL\n",
    "for _dir in [stage_2_dir, ]:\n",
    "    if not os.path.exists(_dir):\n",
    "        os.mkdir(_dir)"
   ]
  },
  {
   "cell_type": "markdown",
   "id": "13037e47",
   "metadata": {},
   "source": [
    "Get all the steps set up with the setup step dooblydoo"
   ]
  },
  {
   "cell_type": "code",
   "execution_count": 15,
   "id": "5faa18e9",
   "metadata": {},
   "outputs": [
    {
     "name": "stderr",
     "output_type": "stream",
     "text": [
      "2023-03-09 13:34:52,916 - stpipe.AssignWcsStep - INFO - AssignWcsStep instance created.\n",
      "2023-03-09 13:34:52,919 - stpipe.Extract2dStep - INFO - Extract2dStep instance created.\n",
      "2023-03-09 13:34:52,921 - stpipe.SourceTypeStep - INFO - SourceTypeStep instance created.\n",
      "2023-03-09 13:34:52,923 - stpipe.WavecorrStep - INFO - WavecorrStep instance created.\n",
      "2023-03-09 13:34:52,925 - stpipe.GainStep - INFO - GainStep instance created.\n",
      "2023-03-09 13:34:52,928 - stpipe.ReadNoiseStep - INFO - ReadNoiseStep instance created.\n",
      "2023-03-09 13:34:52,930 - stpipe.FlatFieldStep - INFO - FlatFieldStep instance created.\n",
      "2023-03-09 13:34:52,932 - stpipe.WavelengthMapStep - INFO - WavelengthMapStep instance created.\n",
      "2023-03-09 13:34:52,934 - stpipe.IntegrationTimesStep - INFO - IntegrationTimesStep instance created.\n",
      "2023-03-09 13:34:52,937 - stpipe.StitchChunksStep - INFO - StitchChunksStep instance created.\n",
      "2023-03-09 13:34:52,939 - stpipe.InspectDQFlagsStep - INFO - InspectDQFlagsStep instance created.\n",
      "2023-03-09 13:34:52,941 - stpipe.CleanOutliersStep - INFO - CleanOutliersStep instance created.\n",
      "2023-03-09 13:34:52,944 - stpipe.DestripingRateimagesStep - INFO - DestripingRateimagesStep instance created.\n",
      "2023-03-09 13:34:52,946 - stpipe.Extract1DBoxStep - INFO - Extract1DBoxStep instance created.\n",
      "2023-03-09 13:34:52,948 - stpipe.Extract1DOptimalStep - INFO - Extract1DOptimalStep instance created.\n",
      "2023-03-09 13:34:52,950 - stpipe.AlignSpectraStep - INFO - AlignSpectraStep instance created.\n"
     ]
    }
   ],
   "source": [
    "# Instantiate STScI steps for NIRSpec stage 2.\n",
    "stsci_assign_wcs = calwebb_spec2.assign_wcs_step.AssignWcsStep()\n",
    "stsci_extract_2d = calwebb_spec2.extract_2d_step.Extract2dStep()\n",
    "stsci_srctype = calwebb_spec2.srctype_step.SourceTypeStep()\n",
    "stsci_wavecorr = calwebb_spec2.wavecorr_step.WavecorrStep()\n",
    "\n",
    "# Mod extract_2d trimming by updating wcs_step slit info.\n",
    "jwst.assign_wcs.nirspec.nrs_wcs_set_input = partial(\n",
    "    jwst.assign_wcs.nirspec.nrs_wcs_set_input,\n",
    "    wavelength_range=[2.3e-06, 5.3e-06], slit_y_low=-1, slit_y_high=50)\n",
    "\n",
    "# Instantiate Custom steps for NIRSpec stage 2.\n",
    "custom_gain = GainStep()\n",
    "custom_readnoise = ReadNoiseStep()\n",
    "custom_flat = FlatFieldStep()\n",
    "custom_wavelength_map = WavelengthMapStep()\n",
    "custom_integration_times = IntegrationTimesStep()\n",
    "stitch_chunks = StitchChunksStep()\n",
    "inspect_dq_flags = InspectDQFlagsStep()\n",
    "clean_outliers = CleanOutliersStep()\n",
    "destripe_rateimages = DestripingRateimagesStep()\n",
    "extract_1d_box = Extract1DBoxStep()\n",
    "extract_1d_optimal = Extract1DOptimalStep()\n",
    "align_spectra = AlignSpectraStep()"
   ]
  },
  {
   "cell_type": "code",
   "execution_count": 16,
   "id": "3995747c",
   "metadata": {},
   "outputs": [],
   "source": [
    "# Read in any chunk.\n",
    "stage_1_any_data_chunk = os.path.join(\n",
    "    stage_1_dir, '{}_stage_1.fits'.format(data_chunk_names[0]))\n",
    "dm_any_stage_1 = datamodels.CubeModel(stage_1_any_data_chunk)"
   ]
  },
  {
   "cell_type": "markdown",
   "id": "7ecc57d0",
   "metadata": {},
   "source": [
    "### Auxiliary Data"
   ]
  },
  {
   "cell_type": "code",
   "execution_count": 17,
   "id": "927a7d54",
   "metadata": {
    "scrolled": true
   },
   "outputs": [
    {
     "name": "stderr",
     "output_type": "stream",
     "text": [
      "2023-03-09 13:35:29,572 - stpipe - CRITICAL - config: {'pre_hooks': [], 'post_hooks': [], 'output_file': None, 'output_dir': None, 'output_ext': '.fits', 'output_use_model': False, 'output_use_index': True, 'save_results': False, 'skip': False, 'suffix': None, 'search_output_file': True, 'input_dir': None, 'sip_approx': True, 'sip_max_pix_error': 0.25, 'sip_degree': None, 'sip_max_inv_pix_error': 0.25, 'sip_inv_degree': None, 'sip_npoints': 32, 'slit_y_low': -0.55, 'slit_y_high': 0.55, 'override_distortion': None, 'override_filteroffset': None, 'override_specwcs': None, 'override_regions': None, 'override_wavelengthrange': None, 'override_camera': None, 'override_collimator': None, 'override_disperser': None, 'override_fore': None, 'override_fpa': None, 'override_msa': None, 'override_ote': None, 'override_ifupost': None, 'override_ifufore': None, 'override_ifuslicer': None}\n",
      "\n",
      "\n",
      "2023-03-09 13:35:29,574 - stpipe.AssignWcsStep - INFO - AssignWcsStep instance created.\n",
      "2023-03-09 13:35:29,840 - stpipe.AssignWcsStep - INFO - Step AssignWcsStep running with args (<CubeModel(1524, 32, 2048) from jw02512010001_04102_00001-seg001_nrs2_stage_1.fits>,).\n",
      "2023-03-09 13:35:29,842 - stpipe.AssignWcsStep - INFO - Step AssignWcsStep parameters are: {'pre_hooks': [], 'post_hooks': [], 'output_file': None, 'output_dir': None, 'output_ext': '.fits', 'output_use_model': False, 'output_use_index': True, 'save_results': False, 'skip': False, 'suffix': None, 'search_output_file': True, 'input_dir': '', 'sip_approx': True, 'sip_max_pix_error': 0.25, 'sip_degree': None, 'sip_max_inv_pix_error': 0.25, 'sip_inv_degree': None, 'sip_npoints': 32, 'slit_y_low': -0.55, 'slit_y_high': 0.55}\n",
      "2023-03-09 13:35:30,374 - stpipe.AssignWcsStep - INFO - gwa_ytilt is 0.1441251639999317 deg\n",
      "2023-03-09 13:35:30,375 - stpipe.AssignWcsStep - INFO - gwa_xtilt is 0.3179056999999937 deg\n",
      "2023-03-09 13:35:30,376 - stpipe.AssignWcsStep - INFO - theta_y correction: 0.0016623043407606828 deg\n",
      "2023-03-09 13:35:30,379 - stpipe.AssignWcsStep - INFO - theta_x correction: -0.0002621800043680385 deg\n",
      "2023-03-09 13:35:31,057 - stpipe.AssignWcsStep - INFO - Slits projected on detector NRS2: ['S1600A1']\n",
      "2023-03-09 13:35:31,058 - stpipe.AssignWcsStep - INFO - Computing WCS for 1 open slitlets\n",
      "2023-03-09 13:35:31,144 - stpipe.AssignWcsStep - INFO - gwa_ytilt is 0.1441251639999317 deg\n",
      "2023-03-09 13:35:31,145 - stpipe.AssignWcsStep - INFO - gwa_xtilt is 0.3179056999999937 deg\n",
      "2023-03-09 13:35:31,146 - stpipe.AssignWcsStep - INFO - theta_y correction: 0.0016623043407606828 deg\n",
      "2023-03-09 13:35:31,149 - stpipe.AssignWcsStep - INFO - theta_x correction: -0.0002621800043680385 deg\n",
      "2023-03-09 13:35:31,184 - stpipe.AssignWcsStep - INFO - SPORDER= -1, wrange=[2.87e-06, 5.27e-06]\n",
      "2023-03-09 13:35:31,466 - stpipe.AssignWcsStep - INFO - Applied Barycentric velocity correction : 1.0000898794845676\n",
      "2023-03-09 13:35:31,556 - stpipe.AssignWcsStep - INFO - There are 0 open slits in quadrant 1\n",
      "2023-03-09 13:35:31,557 - stpipe.AssignWcsStep - INFO - There are 0 open slits in quadrant 2\n",
      "2023-03-09 13:35:31,558 - stpipe.AssignWcsStep - INFO - There are 0 open slits in quadrant 3\n",
      "2023-03-09 13:35:31,558 - stpipe.AssignWcsStep - INFO - There are 0 open slits in quadrant 4\n",
      "2023-03-09 13:35:31,560 - stpipe.AssignWcsStep - INFO - There are 1 open slits in quadrant 5\n",
      "2023-03-09 13:35:32,033 - stpipe.AssignWcsStep - WARNING - /home/ym20900/miniconda3/envs/jwst/lib/python3.10/site-packages/asdf/asdf.py:348: AsdfWarning: File 'file:///home/ym20900/crds_cache/references/jwst/nirspec/jwst_nirspec_ote_0011.asdf' was created with extension class 'asdf.extension.BuiltinExtension' (from package asdf==2.13.0), but older package (asdf==2.12.0) is installed.\n",
      "  warnings.warn(msg, AsdfWarning)\n",
      "\n",
      "2023-03-09 13:35:32,035 - stpipe.AssignWcsStep - WARNING - /home/ym20900/miniconda3/envs/jwst/lib/python3.10/site-packages/asdf/asdf.py:348: AsdfWarning: File 'file:///home/ym20900/crds_cache/references/jwst/nirspec/jwst_nirspec_ote_0011.asdf' was created with extension URI 'asdf://asdf-format.org/transform/extensions/transform-1.5.0' (from package asdf-astropy==0.2.2), but older package (asdf-astropy==0.2.1) is installed.\n",
      "  warnings.warn(msg, AsdfWarning)\n",
      "\n",
      "2023-03-09 13:35:32,055 - stpipe.AssignWcsStep - INFO - Created a NIRSPEC nrs_brightobj pipeline with references {'distortion': None, 'filteroffset': None, 'specwcs': None, 'regions': None, 'wavelengthrange': '/home/ym20900/crds_cache/references/jwst/nirspec/jwst_nirspec_wavelengthrange_0006.asdf', 'camera': '/home/ym20900/crds_cache/references/jwst/nirspec/jwst_nirspec_camera_0008.asdf', 'collimator': '/home/ym20900/crds_cache/references/jwst/nirspec/jwst_nirspec_collimator_0008.asdf', 'disperser': '/home/ym20900/crds_cache/references/jwst/nirspec/jwst_nirspec_disperser_0067.asdf', 'fore': '/home/ym20900/crds_cache/references/jwst/nirspec/jwst_nirspec_fore_0051.asdf', 'fpa': '/home/ym20900/crds_cache/references/jwst/nirspec/jwst_nirspec_fpa_0009.asdf', 'msa': '/home/ym20900/crds_cache/references/jwst/nirspec/jwst_nirspec_msa_0009.asdf', 'ote': '/home/ym20900/crds_cache/references/jwst/nirspec/jwst_nirspec_ote_0011.asdf', 'ifupost': None, 'ifufore': None, 'ifuslicer': None}\n",
      "2023-03-09 13:35:51,540 - stpipe.AssignWcsStep - INFO - COMPLETED assign_wcs\n",
      "2023-03-09 13:35:51,578 - stpipe.AssignWcsStep - INFO - Results used CRDS context: jwst_1063.pmap\n",
      "2023-03-09 13:35:51,579 - stpipe.AssignWcsStep - INFO - Step AssignWcsStep done\n",
      "2023-03-09 13:35:51,611 - stpipe - CRITICAL - config: {'pre_hooks': [], 'post_hooks': [], 'output_file': None, 'output_dir': None, 'output_ext': '.fits', 'output_use_model': False, 'output_use_index': True, 'save_results': False, 'skip': False, 'suffix': None, 'search_output_file': True, 'input_dir': None, 'slit_name': None, 'extract_orders': None, 'grism_objects': None, 'tsgrism_extract_height': None, 'wfss_extract_half_height': 5, 'wfss_mmag_extract': None, 'wfss_nbright': 1000, 'override_wavelengthrange': None}\n",
      "\n",
      "\n",
      "2023-03-09 13:35:51,612 - stpipe.Extract2dStep - INFO - Extract2dStep instance created.\n",
      "2023-03-09 13:35:51,833 - stpipe.Extract2dStep - INFO - Step Extract2dStep running with args (<CubeModel(1524, 32, 2048) from jw02512010001_04102_00001-seg001_nrs2_stage_1.fits>,).\n",
      "2023-03-09 13:35:51,835 - stpipe.Extract2dStep - INFO - Step Extract2dStep parameters are: {'pre_hooks': [], 'post_hooks': [], 'output_file': None, 'output_dir': None, 'output_ext': '.fits', 'output_use_model': False, 'output_use_index': True, 'save_results': False, 'skip': False, 'suffix': None, 'search_output_file': True, 'input_dir': '', 'slit_name': None, 'extract_orders': None, 'grism_objects': None, 'tsgrism_extract_height': None, 'wfss_extract_half_height': 5, 'wfss_mmag_extract': None, 'wfss_nbright': 1000}\n",
      "2023-03-09 13:35:51,885 - stpipe.Extract2dStep - INFO - EXP_TYPE is NRS_BRIGHTOBJ\n",
      "2023-03-09 13:35:52,620 - stpipe.Extract2dStep - INFO - Name of subarray extracted: S1600A1\n",
      "2023-03-09 13:35:52,622 - stpipe.Extract2dStep - INFO - Subarray x-extents are: 0 2048\n",
      "2023-03-09 13:35:52,623 - stpipe.Extract2dStep - INFO - Subarray y-extents are: 0 36\n",
      "2023-03-09 13:36:05,766 - stpipe.Extract2dStep - INFO - set slit_attributes completed\n",
      "2023-03-09 13:36:05,783 - stpipe.Extract2dStep - INFO - Update S_REGION to POLYGON ICRS  225.079493951 -24.453943071 225.078990234 -24.454118831 225.079168705 -24.454532345 225.079672452 -24.454356629\n",
      "2023-03-09 13:36:05,786 - stpipe.Extract2dStep - INFO - extract_2d updated S_REGION to POLYGON ICRS  225.079493951 -24.453943071 225.078990234 -24.454118831 225.079168705 -24.454532345 225.079672452 -24.454356629\n",
      "2023-03-09 13:36:05,793 - stpipe.Extract2dStep - INFO - Results used CRDS context: jwst_1063.pmap\n",
      "2023-03-09 13:36:05,794 - stpipe.Extract2dStep - INFO - Step Extract2dStep done\n",
      "2023-03-09 13:36:08,149 - stpipe - CRITICAL - config: {'pre_hooks': [], 'post_hooks': [], 'output_file': None, 'output_dir': None, 'output_ext': '.fits', 'output_use_model': False, 'output_use_index': True, 'save_results': False, 'skip': False, 'suffix': None, 'search_output_file': True, 'input_dir': None, 'source_type': None}\n",
      "\n",
      "\n",
      "2023-03-09 13:36:08,151 - stpipe.SourceTypeStep - INFO - SourceTypeStep instance created.\n"
     ]
    },
    {
     "name": "stderr",
     "output_type": "stream",
     "text": [
      "2023-03-09 13:36:08,863 - stpipe.SourceTypeStep - INFO - Step SourceTypeStep running with args (<SlitModel(1524, 32, 2048) from jw02512010001_04102_00001-seg001_nrs2_stage_1.fits>,).\n",
      "2023-03-09 13:36:08,865 - stpipe.SourceTypeStep - INFO - Step SourceTypeStep parameters are: {'pre_hooks': [], 'post_hooks': [], 'output_file': None, 'output_dir': None, 'output_ext': '.fits', 'output_use_model': False, 'output_use_index': True, 'save_results': False, 'skip': False, 'suffix': None, 'search_output_file': True, 'input_dir': '', 'source_type': None}\n",
      "2023-03-09 13:36:09,063 - stpipe.SourceTypeStep - INFO - Input EXP_TYPE is NRS_BRIGHTOBJ\n",
      "2023-03-09 13:36:09,064 - stpipe.SourceTypeStep - INFO - Input SRCTYAPT = POINT\n",
      "2023-03-09 13:36:09,065 - stpipe.SourceTypeStep - INFO - Input is a TSO exposure; setting SRCTYPE = POINT\n",
      "2023-03-09 13:36:09,071 - stpipe.SourceTypeStep - INFO - Step SourceTypeStep done\n",
      "2023-03-09 13:36:09,291 - stpipe - CRITICAL - config: {'pre_hooks': [], 'post_hooks': [], 'output_file': None, 'output_dir': None, 'output_ext': '.fits', 'output_use_model': False, 'output_use_index': True, 'save_results': False, 'skip': False, 'suffix': None, 'search_output_file': True, 'input_dir': None, 'override_wavecorr': None}\n",
      "\n",
      "\n",
      "2023-03-09 13:36:09,292 - stpipe.WavecorrStep - INFO - WavecorrStep instance created.\n",
      "2023-03-09 13:36:09,577 - stpipe.WavecorrStep - INFO - Step WavecorrStep running with args (<SlitModel(1524, 32, 2048) from jw02512010001_04102_00001-seg001_nrs2_stage_1.fits>,).\n",
      "2023-03-09 13:36:09,578 - stpipe.WavecorrStep - INFO - Step WavecorrStep parameters are: {'pre_hooks': [], 'post_hooks': [], 'output_file': None, 'output_dir': None, 'output_ext': '.fits', 'output_use_model': False, 'output_use_index': True, 'save_results': False, 'skip': False, 'suffix': None, 'search_output_file': True, 'input_dir': ''}\n",
      "2023-03-09 13:36:10,014 - stpipe.WavecorrStep - INFO - Using WAVECORR reference file /home/ym20900/crds_cache/references/jwst/nirspec/jwst_nirspec_wavecorr_0003.asdf\n",
      "2023-03-09 13:36:27,771 - stpipe.WavecorrStep - INFO - Detected a POINT source type in slit S1600A1\n",
      "2023-03-09 13:36:27,772 - stpipe.WavecorrStep - INFO - slit name S1600A1\n",
      "2023-03-09 13:36:27,775 - stpipe.WavecorrStep - INFO - xoffset, yoffset, 6.53851785742146e-11, -7.4741919963574e-11\n",
      "2023-03-09 13:36:27,836 - stpipe.WavecorrStep - INFO - Source X/Y position in the slit: -0.004592915534201511, -0.00968196854368989\n",
      "2023-03-09 13:36:28,361 - stpipe.WavecorrStep - INFO - Using wavelength zero-point correction for aperture S1600A1\n",
      "2023-03-09 13:36:28,387 - stpipe.WavecorrStep - INFO - Results used CRDS context: jwst_1063.pmap\n",
      "2023-03-09 13:36:28,389 - stpipe.WavecorrStep - INFO - Step WavecorrStep done\n",
      "2023-03-09 13:36:28,721 - CRDS - ERROR -  Error determining best reference for 'pars-gainstep'  =   Unknown reference type 'pars-gainstep'\n",
      "2023-03-09 13:36:28,727 - stpipe - CRITICAL - config: {'data_base_name': 'jw02512010001_04102_00001_nrs2', 'data_chunk_name': 'jw02512010001_04102_00001-seg001_nrs2', 'stage_1_dir': '/home/ym20900/compass/TOI_836_02_v2/reduction_v1/stage_1', 'stage_2_dir': '/home/ym20900/compass/TOI_836_02_v2/reduction_v1/stage_2', 'trim_col_start': 5, 'trim_col_end': -5, 'median_value': True, 'pre_hooks': [], 'post_hooks': [], 'output_file': None, 'output_dir': None, 'output_ext': '.fits', 'output_use_model': False, 'output_use_index': True, 'save_results': False, 'skip': False, 'suffix': None, 'search_output_file': True, 'input_dir': None}\n",
      "\n",
      "\n",
      "2023-03-09 13:36:28,730 - stpipe.GainStep - INFO - GainStep instance created.\n",
      "2023-03-09 13:36:29,354 - stpipe.GainStep - INFO - Step GainStep running with args (<SlitModel(1524, 32, 2048) from jw02512010001_04102_00001-seg001_nrs2_stage_1.fits>,).\n",
      "2023-03-09 13:36:29,357 - stpipe.GainStep - INFO - Step GainStep parameters are: {'pre_hooks': [], 'post_hooks': [], 'output_file': None, 'output_dir': None, 'output_ext': '.fits', 'output_use_model': False, 'output_use_index': True, 'save_results': False, 'skip': False, 'suffix': None, 'search_output_file': True, 'input_dir': '', 'data_base_name': 'jw02512010001_04102_00001_nrs2', 'data_chunk_name': 'jw02512010001_04102_00001-seg001_nrs2', 'stage_1_dir': '/home/ym20900/compass/TOI_836_02_v2/reduction_v1/stage_1', 'stage_2_dir': '/home/ym20900/compass/TOI_836_02_v2/reduction_v1/stage_2', 'trim_col_start': 5, 'trim_col_end': -5, 'median_value': True}\n",
      "2023-03-09 13:36:29,707 - stpipe.GainStep - INFO - Getting subarray position.\n",
      "2023-03-09 13:36:30,222 - stpipe.GainStep - INFO - Getting gain.\n",
      "2023-03-09 13:36:30,381 - stpipe.GainStep - INFO - Median gain=1.6194159984588623 electrons/DN.\n",
      "2023-03-09 13:36:30,383 - stpipe.GainStep - INFO - Step GainStep done\n",
      "2023-03-09 13:36:30,765 - CRDS - ERROR -  Error determining best reference for 'pars-readnoisestep'  =   Unknown reference type 'pars-readnoisestep'\n",
      "2023-03-09 13:36:30,772 - stpipe - CRITICAL - config: {'gain_value': 1.6194159984588623, 'data_base_name': 'jw02512010001_04102_00001_nrs2', 'data_chunk_name': 'jw02512010001_04102_00001-seg001_nrs2', 'stage_1_dir': '/home/ym20900/compass/TOI_836_02_v2/reduction_v1/stage_1', 'stage_2_dir': '/home/ym20900/compass/TOI_836_02_v2/reduction_v1/stage_2', 'trim_col_start': 5, 'trim_col_end': -5, 'median_value': True, 'pre_hooks': [], 'post_hooks': [], 'output_file': None, 'output_dir': None, 'output_ext': '.fits', 'output_use_model': False, 'output_use_index': True, 'save_results': False, 'skip': False, 'suffix': None, 'search_output_file': True, 'input_dir': None}\n",
      "\n",
      "\n",
      "2023-03-09 13:36:30,778 - stpipe.ReadNoiseStep - INFO - ReadNoiseStep instance created.\n",
      "2023-03-09 13:36:31,102 - stpipe.ReadNoiseStep - INFO - Step ReadNoiseStep running with args (<SlitModel(1524, 32, 2048) from jw02512010001_04102_00001-seg001_nrs2_stage_1.fits>,).\n",
      "2023-03-09 13:36:31,104 - stpipe.ReadNoiseStep - INFO - Step ReadNoiseStep parameters are: {'pre_hooks': [], 'post_hooks': [], 'output_file': None, 'output_dir': None, 'output_ext': '.fits', 'output_use_model': False, 'output_use_index': True, 'save_results': False, 'skip': False, 'suffix': None, 'search_output_file': True, 'input_dir': '', 'data_base_name': 'jw02512010001_04102_00001_nrs2', 'data_chunk_name': 'jw02512010001_04102_00001-seg001_nrs2', 'stage_1_dir': '/home/ym20900/compass/TOI_836_02_v2/reduction_v1/stage_1', 'stage_2_dir': '/home/ym20900/compass/TOI_836_02_v2/reduction_v1/stage_2', 'trim_col_start': 5, 'trim_col_end': -5, 'gain_value': 1.6194159984588623, 'median_value': True}\n",
      "2023-03-09 13:36:31,464 - stpipe.ReadNoiseStep - INFO - Getting subarray position.\n",
      "2023-03-09 13:36:31,961 - stpipe.ReadNoiseStep - INFO - Getting readnoise.\n",
      "2023-03-09 13:36:32,086 - stpipe.ReadNoiseStep - INFO - Median readnoise=17.325122833251953 electrons.\n",
      "2023-03-09 13:36:32,088 - stpipe.ReadNoiseStep - INFO - Step ReadNoiseStep done\n",
      "2023-03-09 13:36:32,488 - stpipe - CRITICAL - config: {'data_base_name': 'jw02512010001_04102_00001_nrs2', 'data_chunk_name': 'jw02512010001_04102_00001-seg001_nrs2', 'stage_2_dir': '/home/ym20900/compass/TOI_836_02_v2/reduction_v1/stage_2', 'trim_col_start': 5, 'trim_col_end': -5, 'apply': False, 'skip': True, 'pre_hooks': [], 'post_hooks': [], 'output_file': None, 'output_dir': None, 'output_ext': '.fits', 'output_use_model': False, 'output_use_index': True, 'save_results': False, 'suffix': None, 'search_output_file': True, 'input_dir': None}\n",
      "\n",
      "\n",
      "2023-03-09 13:36:32,491 - stpipe.FlatFieldStep - INFO - FlatFieldStep instance created.\n",
      "2023-03-09 13:36:32,769 - stpipe.FlatFieldStep - INFO - Step FlatFieldStep running with args (<SlitModel(1524, 32, 2048) from jw02512010001_04102_00001-seg001_nrs2_stage_1.fits>,).\n",
      "2023-03-09 13:36:32,771 - stpipe.FlatFieldStep - INFO - Step FlatFieldStep parameters are: {'pre_hooks': [], 'post_hooks': [], 'output_file': None, 'output_dir': None, 'output_ext': '.fits', 'output_use_model': False, 'output_use_index': True, 'save_results': False, 'skip': True, 'suffix': None, 'search_output_file': True, 'input_dir': '', 'data_base_name': 'jw02512010001_04102_00001_nrs2', 'data_chunk_name': 'jw02512010001_04102_00001-seg001_nrs2', 'stage_2_dir': '/home/ym20900/compass/TOI_836_02_v2/reduction_v1/stage_2', 'trim_col_start': 5, 'trim_col_end': -5, 'apply': False}\n"
     ]
    },
    {
     "name": "stderr",
     "output_type": "stream",
     "text": [
      "2023-03-09 13:36:32,772 - stpipe.FlatFieldStep - INFO - Step skipped.\n",
      "2023-03-09 13:36:32,776 - stpipe.FlatFieldStep - INFO - Step FlatFieldStep done\n",
      "2023-03-09 13:36:33,264 - CRDS - ERROR -  Error determining best reference for 'pars-wavelengthmapstep'  =   Unknown reference type 'pars-wavelengthmapstep'\n",
      "2023-03-09 13:36:33,269 - stpipe - CRITICAL - config: {'data_base_name': 'jw02512010001_04102_00001_nrs2', 'stage_2_dir': '/home/ym20900/compass/TOI_836_02_v2/reduction_v1/stage_2', 'trim_col_start': 5, 'trim_col_end': -5, 'pre_hooks': [], 'post_hooks': [], 'output_file': None, 'output_dir': None, 'output_ext': '.fits', 'output_use_model': False, 'output_use_index': True, 'save_results': False, 'skip': False, 'suffix': None, 'search_output_file': True, 'input_dir': None}\n",
      "\n",
      "\n",
      "2023-03-09 13:36:33,271 - stpipe.WavelengthMapStep - INFO - WavelengthMapStep instance created.\n",
      "2023-03-09 13:36:33,657 - stpipe.WavelengthMapStep - INFO - Step WavelengthMapStep running with args (<SlitModel(1524, 32, 2048) from jw02512010001_04102_00001-seg001_nrs2_stage_1.fits>,).\n",
      "2023-03-09 13:36:33,661 - stpipe.WavelengthMapStep - INFO - Step WavelengthMapStep parameters are: {'pre_hooks': [], 'post_hooks': [], 'output_file': None, 'output_dir': None, 'output_ext': '.fits', 'output_use_model': False, 'output_use_index': True, 'save_results': False, 'skip': False, 'suffix': None, 'search_output_file': True, 'input_dir': '', 'data_base_name': 'jw02512010001_04102_00001_nrs2', 'stage_2_dir': '/home/ym20900/compass/TOI_836_02_v2/reduction_v1/stage_2', 'trim_col_start': 5, 'trim_col_end': -5}\n",
      "2023-03-09 13:36:34,165 - stpipe.WavelengthMapStep - INFO - Getting wavelength map.\n",
      "2023-03-09 13:36:34,358 - stpipe.WavelengthMapStep - INFO - Step WavelengthMapStep done\n",
      "2023-03-09 13:36:34,368 - stpipe - WARNING - Input dataset is not an instance of AbstractDataModel.\n",
      "2023-03-09 13:36:34,369 - stpipe - INFO - PARS-INTEGRATIONTIMESSTEP: CRDS parameter reference retrieval disabled.\n",
      "2023-03-09 13:36:34,371 - stpipe - CRITICAL - config: {'data_base_name': 'jw02512010001_04102_00001_nrs2', 'stage_1_dir': '/home/ym20900/compass/TOI_836_02_v2/reduction_v1/stage_1', 'stage_2_dir': '/home/ym20900/compass/TOI_836_02_v2/reduction_v1/stage_2', 'pre_hooks': [], 'post_hooks': [], 'output_file': None, 'output_dir': None, 'output_ext': '.fits', 'output_use_model': False, 'output_use_index': True, 'save_results': False, 'skip': False, 'suffix': None, 'search_output_file': True, 'input_dir': None}\n",
      "\n",
      "\n",
      "2023-03-09 13:36:34,373 - stpipe.IntegrationTimesStep - INFO - IntegrationTimesStep instance created.\n",
      "2023-03-09 13:36:34,758 - stpipe.IntegrationTimesStep - INFO - Step IntegrationTimesStep running with args (['jw02512010001_04102_00001-seg001_nrs2', 'jw02512010001_04102_00001-seg002_nrs2', 'jw02512010001_04102_00001-seg003_nrs2', 'jw02512010001_04102_00001-seg004_nrs2'],).\n",
      "2023-03-09 13:36:34,761 - stpipe.IntegrationTimesStep - INFO - Step IntegrationTimesStep parameters are: {'pre_hooks': [], 'post_hooks': [], 'output_file': None, 'output_dir': None, 'output_ext': '.fits', 'output_use_model': False, 'output_use_index': True, 'save_results': False, 'skip': False, 'suffix': None, 'search_output_file': True, 'input_dir': '', 'data_base_name': 'jw02512010001_04102_00001_nrs2', 'stage_1_dir': '/home/ym20900/compass/TOI_836_02_v2/reduction_v1/stage_1', 'stage_2_dir': '/home/ym20900/compass/TOI_836_02_v2/reduction_v1/stage_2'}\n",
      "2023-03-09 13:36:34,763 - stpipe.IntegrationTimesStep - INFO - Getting integration times.\n",
      "2023-03-09 13:37:27,788 - stpipe.IntegrationTimesStep - INFO - Integration duration=3.6289998795837164 secs\n",
      "2023-03-09 13:37:27,800 - stpipe.IntegrationTimesStep - INFO - Step IntegrationTimesStep done\n"
     ]
    }
   ],
   "source": [
    "# Stage 2 reduction, part 1: auxiliary data.\n",
    "proc = stsci_assign_wcs.call(dm_any_stage_1)\n",
    "proc = stsci_extract_2d.call(proc)\n",
    "proc = stsci_srctype.call(proc)\n",
    "proc = stsci_wavecorr.call(proc)\n",
    "gain = custom_gain.call(\n",
    "    proc, data_base_name=data_name, data_chunk_name=data_chunk_names[0],\n",
    "    stage_1_dir=stage_1_dir, stage_2_dir=stage_2_dir,\n",
    "    trim_col_start=5, trim_col_end=-5, median_value=True)\n",
    "readnoise = custom_readnoise.call(\n",
    "    proc, gain_value=gain, data_base_name=data_name,\n",
    "    data_chunk_name=data_chunk_names[0],\n",
    "    stage_1_dir=stage_1_dir, stage_2_dir=stage_2_dir,\n",
    "    trim_col_start=5, trim_col_end=-5, median_value=True)\n",
    "flat = custom_flat.call(\n",
    "    proc, data_base_name=data_name, data_chunk_name=data_chunk_names[0],\n",
    "    stage_2_dir=stage_2_dir, trim_col_start=5, trim_col_end=-5,\n",
    "    apply=False, skip=True)\n",
    "wavelength_map = custom_wavelength_map.call(\n",
    "    proc, data_base_name=data_name, stage_2_dir=stage_2_dir,\n",
    "    trim_col_start=5, trim_col_end=-5)\n",
    "integration_times, int_time_s = custom_integration_times.call(\n",
    "    data_chunk_names, data_base_name=data_name,\n",
    "    stage_1_dir=stage_1_dir, stage_2_dir=stage_2_dir)"
   ]
  }
 ],
 "metadata": {
  "kernelspec": {
   "display_name": "Python 3 (ipykernel)",
   "language": "python",
   "name": "python3"
  },
  "language_info": {
   "codemirror_mode": {
    "name": "ipython",
    "version": 3
   },
   "file_extension": ".py",
   "mimetype": "text/x-python",
   "name": "python",
   "nbconvert_exporter": "python",
   "pygments_lexer": "ipython3",
   "version": "3.8.12"
  }
 },
 "nbformat": 4,
 "nbformat_minor": 5
}
