{
 "cells": [
  {
   "cell_type": "code",
   "execution_count": 1,
   "id": "e3a7d0da",
   "metadata": {},
   "outputs": [],
   "source": [
    "import os\n",
    "import numpy as np\n",
    "import matplotlib.pyplot as plt\n",
    "import sys\n",
    "import glob\n",
    "sys.path.insert(0, '/home/ym20900/ExoTiC-JEDI/')\n",
    "import exotic_jedi as jedi"
   ]
  },
  {
   "cell_type": "code",
   "execution_count": 2,
   "id": "574c0533",
   "metadata": {},
   "outputs": [],
   "source": [
    "os.environ['CRDS_SERVER_URL'] = 'https://jwst-crds.stsci.edu'\n",
    "os.environ['CRDS_PATH'] = '/YOUR/CRDS/PATH/crds_cache/'"
   ]
  },
  {
   "cell_type": "code",
   "execution_count": 3,
   "id": "bd961adf",
   "metadata": {},
   "outputs": [
    {
     "name": "stdout",
     "output_type": "stream",
     "text": [
      "Using crds context=jwst_1075.pmap\n"
     ]
    }
   ],
   "source": [
    "from jwst import datamodels\n",
    "from jwst.pipeline import calwebb_detector1\n",
    "from crds import get_default_context\n",
    "print('Using crds context={}'.format(get_default_context()))\n",
    "\n",
    "from exotic_jedi.stage_1 import CustomBiasStep, DestripingGroupsStep"
   ]
  },
  {
   "cell_type": "markdown",
   "id": "40dbe66a",
   "metadata": {},
   "source": [
    "Point to files"
   ]
  },
  {
   "cell_type": "code",
   "execution_count": 4,
   "id": "fe38f7ee",
   "metadata": {},
   "outputs": [],
   "source": [
    "# Data and version config.\n",
    "data_dir = '/PATH/TO/YOUR/DATA/'\n",
    "\n",
    "data_chunks = sorted(glob.glob(data_dir+'*nrs1_uncal.fits'))"
   ]
  },
  {
   "cell_type": "code",
   "execution_count": 5,
   "id": "bc05af05",
   "metadata": {},
   "outputs": [
    {
     "name": "stdout",
     "output_type": "stream",
     "text": [
      "['jw02512010001_04102_00001-seg001_nrs1', 'jw02512010001_04102_00001-seg002_nrs1', 'jw02512010001_04102_00001-seg003_nrs1', 'jw02512010001_04102_00001-seg004_nrs1']\n"
     ]
    }
   ],
   "source": [
    "data_chunk_names=[]\n",
    "for file in range(len(data_chunks)):\n",
    "    file_name = data_chunks[file].split('/')[-1].split('uncal.fits')[0][:-1]\n",
    "    data_chunk_names.append(file_name)\n",
    "print(data_chunk_names)"
   ]
  },
  {
   "cell_type": "markdown",
   "id": "79022b91",
   "metadata": {},
   "source": [
    "Point to where we want results saved"
   ]
  },
  {
   "cell_type": "code",
   "execution_count": 6,
   "id": "16073e34",
   "metadata": {},
   "outputs": [],
   "source": [
    "reduction_dir = '/your_directory/PLANET_VISIT/'\n",
    "ancillary_dir = os.path.join(reduction_dir, 'ancillary')\n",
    "version_dir = os.path.join(reduction_dir, 'reduction_v1')\n",
    "stage_1_dir = os.path.join(version_dir, 'stage_1')\n",
    "for _dir in [version_dir, stage_1_dir]:\n",
    "    if not os.path.exists(_dir):\n",
    "        os.mkdir(_dir)"
   ]
  },
  {
   "cell_type": "code",
   "execution_count": 7,
   "id": "31caca66",
   "metadata": {
    "scrolled": true
   },
   "outputs": [
    {
     "name": "stderr",
     "output_type": "stream",
     "text": [
      "2023-03-30 13:26:52,903 - stpipe.GroupScaleStep - INFO - GroupScaleStep instance created.\n",
      "2023-03-30 13:26:52,916 - stpipe.DQInitStep - INFO - DQInitStep instance created.\n",
      "2023-03-30 13:26:52,921 - stpipe.SaturationStep - INFO - SaturationStep instance created.\n",
      "2023-03-30 13:26:52,923 - stpipe.SuperBiasStep - INFO - SuperBiasStep instance created.\n",
      "2023-03-30 13:26:52,926 - stpipe.RefPixStep - INFO - RefPixStep instance created.\n",
      "2023-03-30 13:26:52,929 - stpipe.LinearityStep - INFO - LinearityStep instance created.\n",
      "2023-03-30 13:26:52,932 - stpipe.DarkCurrentStep - INFO - DarkCurrentStep instance created.\n",
      "2023-03-30 13:26:52,936 - stpipe.JumpStep - INFO - JumpStep instance created.\n",
      "2023-03-30 13:26:52,940 - stpipe.RampFitStep - INFO - RampFitStep instance created.\n",
      "2023-03-30 13:26:52,943 - stpipe.GainScaleStep - INFO - GainScaleStep instance created.\n",
      "2023-03-30 13:26:52,945 - stpipe.CustomBiasStep - INFO - CustomBiasStep instance created.\n",
      "2023-03-30 13:26:52,949 - stpipe.DestripingGroupsStep - INFO - DestripingGroupsStep instance created.\n"
     ]
    },
    {
     "name": "stdout",
     "output_type": "stream",
     "text": [
      "\n",
      "\n",
      "\n",
      "=======================\n",
      "\n",
      "\n",
      "========= ~ ~ ~ ~ ~ ~ ~\n",
      "\n",
      "\n",
      "========= Working on jw02512010001_04102_00001-seg001_nrs1 =========\n",
      "\n",
      "\n",
      "========= ~ ~ ~ ~ ~ ~ ~ \n",
      "\n",
      "\n",
      "========================\n",
      "\n",
      "\n",
      "\n"
     ]
    },
    {
     "name": "stderr",
     "output_type": "stream",
     "text": [
      "2023-03-30 13:27:01,334 - CRDS - INFO -  Fetching  /home/ym20900/crds_cache/mappings/jwst/jwst_nirspec_pars-jumpstep_0004.rmap      810 bytes  (1 / 10 files) (0 / 31.5 K bytes)\n",
      "2023-03-30 13:27:01,656 - CRDS - INFO -  Fetching  /home/ym20900/crds_cache/mappings/jwst/jwst_nirspec_0320.imap    5.2 K bytes  (2 / 10 files) (810 / 31.5 K bytes)\n",
      "2023-03-30 13:27:01,987 - CRDS - INFO -  Fetching  /home/ym20900/crds_cache/mappings/jwst/jwst_niriss_pars-jumpstep_0006.rmap    4.5 K bytes  (3 / 10 files) (6.0 K / 31.5 K bytes)\n",
      "2023-03-30 13:27:02,311 - CRDS - INFO -  Fetching  /home/ym20900/crds_cache/mappings/jwst/jwst_niriss_0215.imap    5.2 K bytes  (4 / 10 files) (10.4 K / 31.5 K bytes)\n",
      "2023-03-30 13:27:02,631 - CRDS - INFO -  Fetching  /home/ym20900/crds_cache/mappings/jwst/jwst_nircam_photom_0017.rmap    3.4 K bytes  (5 / 10 files) (15.6 K / 31.5 K bytes)\n",
      "2023-03-30 13:27:02,957 - CRDS - INFO -  Fetching  /home/ym20900/crds_cache/mappings/jwst/jwst_nircam_pars-jumpstep_0004.rmap      806 bytes  (6 / 10 files) (19.0 K / 31.5 K bytes)\n",
      "2023-03-30 13:27:03,278 - CRDS - INFO -  Fetching  /home/ym20900/crds_cache/mappings/jwst/jwst_nircam_0252.imap    5.1 K bytes  (7 / 10 files) (19.8 K / 31.5 K bytes)\n",
      "2023-03-30 13:27:03,597 - CRDS - INFO -  Fetching  /home/ym20900/crds_cache/mappings/jwst/jwst_miri_pars-jumpstep_0006.rmap      864 bytes  (8 / 10 files) (24.8 K / 31.5 K bytes)\n",
      "2023-03-30 13:27:03,918 - CRDS - INFO -  Fetching  /home/ym20900/crds_cache/mappings/jwst/jwst_miri_0336.imap    5.2 K bytes  (9 / 10 files) (25.7 K / 31.5 K bytes)\n",
      "2023-03-30 13:27:04,236 - CRDS - INFO -  Fetching  /home/ym20900/crds_cache/mappings/jwst/jwst_1075.pmap        580 bytes  (10 / 10 files) (30.9 K / 31.5 K bytes)\n",
      "2023-03-30 13:27:05,333 - stpipe - CRITICAL - config: {'pre_hooks': [], 'post_hooks': [], 'output_file': None, 'output_dir': None, 'output_ext': '.fits', 'output_use_model': False, 'output_use_index': True, 'save_results': False, 'skip': False, 'suffix': None, 'search_output_file': True, 'input_dir': None}\n",
      "\n",
      "\n",
      "2023-03-30 13:27:05,339 - stpipe.GroupScaleStep - INFO - GroupScaleStep instance created.\n",
      "2023-03-30 13:27:05,623 - stpipe.GroupScaleStep - INFO - Step GroupScaleStep running with args (<RampModel(1524, 3, 32, 2048) from jw02512010001_04102_00001-seg001_nrs1_uncal.fits>,).\n",
      "2023-03-30 13:27:05,626 - stpipe.GroupScaleStep - INFO - Step GroupScaleStep parameters are: {'pre_hooks': [], 'post_hooks': [], 'output_file': None, 'output_dir': None, 'output_ext': '.fits', 'output_use_model': False, 'output_use_index': True, 'save_results': False, 'skip': False, 'suffix': None, 'search_output_file': True, 'input_dir': ''}\n",
      "2023-03-30 13:27:12,188 - stpipe.GroupScaleStep - INFO - NFRAMES and FRMDIVSR are equal; correction not needed\n",
      "2023-03-30 13:27:12,191 - stpipe.GroupScaleStep - INFO - Step will be skipped\n",
      "2023-03-30 13:27:12,199 - stpipe.GroupScaleStep - INFO - Step GroupScaleStep done\n",
      "2023-03-30 13:27:12,255 - stpipe - CRITICAL - config: {'pre_hooks': [], 'post_hooks': [], 'output_file': None, 'output_dir': None, 'output_ext': '.fits', 'output_use_model': False, 'output_use_index': True, 'save_results': False, 'skip': False, 'suffix': None, 'search_output_file': True, 'input_dir': None, 'override_mask': None}\n",
      "\n",
      "\n",
      "2023-03-30 13:27:12,261 - stpipe.DQInitStep - INFO - DQInitStep instance created.\n",
      "2023-03-30 13:27:12,665 - stpipe.DQInitStep - INFO - Step DQInitStep running with args (<RampModel(1524, 3, 32, 2048) from jw02512010001_04102_00001-seg001_nrs1_uncal.fits>,).\n",
      "2023-03-30 13:27:12,667 - stpipe.DQInitStep - INFO - Step DQInitStep parameters are: {'pre_hooks': [], 'post_hooks': [], 'output_file': None, 'output_dir': None, 'output_ext': '.fits', 'output_use_model': False, 'output_use_index': True, 'save_results': False, 'skip': False, 'suffix': None, 'search_output_file': True, 'input_dir': ''}\n",
      "2023-03-30 13:27:12,734 - stpipe.DQInitStep - INFO - Using MASK reference file /home/ym20900/crds_cache/references/jwst/nirspec/jwst_nirspec_mask_0037.fits\n",
      "2023-03-30 13:27:17,823 - stpipe.DQInitStep - INFO - Extracting mask subarray to match science data\n",
      "2023-03-30 13:27:17,852 - stpipe.DQInitStep - INFO - Results used CRDS context: jwst_1075.pmap\n",
      "2023-03-30 13:27:17,853 - stpipe.DQInitStep - INFO - Step DQInitStep done\n",
      "2023-03-30 13:27:17,873 - stpipe - CRITICAL - config: {'n_pix_grow_sat': 1, 'pre_hooks': [], 'post_hooks': [], 'output_file': None, 'output_dir': None, 'output_ext': '.fits', 'output_use_model': False, 'output_use_index': True, 'save_results': False, 'skip': False, 'suffix': None, 'search_output_file': True, 'input_dir': None, 'override_saturation': None}\n",
      "\n",
      "\n",
      "2023-03-30 13:27:17,875 - stpipe.SaturationStep - INFO - SaturationStep instance created.\n",
      "2023-03-30 13:27:18,051 - stpipe.SaturationStep - INFO - Step SaturationStep running with args (<RampModel(1524, 3, 32, 2048) from jw02512010001_04102_00001-seg001_nrs1_uncal.fits>,).\n",
      "2023-03-30 13:27:18,055 - stpipe.SaturationStep - INFO - Step SaturationStep parameters are: {'pre_hooks': [], 'post_hooks': [], 'output_file': None, 'output_dir': None, 'output_ext': '.fits', 'output_use_model': False, 'output_use_index': True, 'save_results': False, 'skip': False, 'suffix': None, 'search_output_file': True, 'input_dir': '', 'n_pix_grow_sat': 1}\n",
      "2023-03-30 13:27:18,093 - stpipe.SaturationStep - INFO - Using SATURATION reference file /home/ym20900/crds_cache/references/jwst/nirspec/jwst_nirspec_saturation_0028.fits\n",
      "2023-03-30 13:27:21,547 - stpipe.SaturationStep - INFO - Extracting reference file subarray to match science data\n",
      "2023-03-30 13:27:32,470 - stpipe.SaturationStep - INFO - Detected 285 saturated pixels\n",
      "2023-03-30 13:27:32,747 - stpipe.SaturationStep - INFO - Detected 0 A/D floor pixels\n",
      "2023-03-30 13:27:32,758 - stpipe.SaturationStep - INFO - Results used CRDS context: jwst_1075.pmap\n",
      "2023-03-30 13:27:32,758 - stpipe.SaturationStep - INFO - Step SaturationStep done\n",
      "2023-03-30 13:27:32,774 - CRDS - ERROR -  Error determining best reference for 'pars-custombiasstep'  =   Unknown reference type 'pars-custombiasstep'\n",
      "2023-03-30 13:27:32,775 - stpipe - CRITICAL - config: {'pre_hooks': [], 'post_hooks': [], 'output_file': None, 'output_dir': None, 'output_ext': '.fits', 'output_use_model': False, 'output_use_index': True, 'save_results': False, 'skip': False, 'suffix': None, 'search_output_file': True, 'input_dir': None}\n",
      "\n",
      "\n",
      "2023-03-30 13:27:32,776 - stpipe.CustomBiasStep - INFO - CustomBiasStep instance created.\n",
      "2023-03-30 13:27:32,893 - stpipe.CustomBiasStep - INFO - Step CustomBiasStep running with args (<RampModel(1524, 3, 32, 2048) from jw02512010001_04102_00001-seg001_nrs1_uncal.fits>,).\n",
      "2023-03-30 13:27:32,895 - stpipe.CustomBiasStep - INFO - Step CustomBiasStep parameters are: {'pre_hooks': [], 'post_hooks': [], 'output_file': None, 'output_dir': None, 'output_ext': '.fits', 'output_use_model': False, 'output_use_index': True, 'save_results': False, 'skip': False, 'suffix': None, 'search_output_file': True, 'input_dir': ''}\n",
      "2023-03-30 13:27:42,490 - stpipe.CustomBiasStep - INFO - Step CustomBiasStep done\n",
      "2023-03-30 13:27:42,511 - stpipe - CRITICAL - config: {'odd_even_columns': True, 'pre_hooks': [], 'post_hooks': [], 'output_file': None, 'output_dir': None, 'output_ext': '.fits', 'output_use_model': False, 'output_use_index': True, 'save_results': False, 'skip': False, 'suffix': None, 'search_output_file': True, 'input_dir': None, 'use_side_ref_pixels': True, 'side_smoothing_length': 11, 'side_gain': 1.0, 'odd_even_rows': True, 'override_refpix': None}\n",
      "\n",
      "\n",
      "2023-03-30 13:27:42,513 - stpipe.RefPixStep - INFO - RefPixStep instance created.\n",
      "2023-03-30 13:27:42,691 - stpipe.RefPixStep - INFO - Step RefPixStep running with args (<RampModel(1524, 3, 32, 2048) from jw02512010001_04102_00001-seg001_nrs1_uncal.fits>,).\n",
      "2023-03-30 13:27:42,693 - stpipe.RefPixStep - INFO - Step RefPixStep parameters are: {'pre_hooks': [], 'post_hooks': [], 'output_file': None, 'output_dir': None, 'output_ext': '.fits', 'output_use_model': False, 'output_use_index': True, 'save_results': False, 'skip': False, 'suffix': None, 'search_output_file': True, 'input_dir': '', 'odd_even_columns': True, 'use_side_ref_pixels': True, 'side_smoothing_length': 11, 'side_gain': 1.0, 'odd_even_rows': True}\n"
     ]
    },
    {
     "name": "stderr",
     "output_type": "stream",
     "text": [
      "2023-03-30 13:27:44,217 - stpipe.RefPixStep - INFO - NIR subarray data\n",
      "2023-03-30 13:27:44,227 - stpipe.RefPixStep - INFO - Single readout amplifier used\n",
      "2023-03-30 13:27:44,228 - stpipe.RefPixStep - INFO - The following parameter is valid for this mode:\n",
      "2023-03-30 13:27:44,228 - stpipe.RefPixStep - INFO - odd_even_columns = True\n",
      "2023-03-30 13:27:44,229 - stpipe.RefPixStep - INFO - The following parameters are not applicable and are ignored:\n",
      "2023-03-30 13:27:44,230 - stpipe.RefPixStep - INFO - use_side_ref_pixels = True\n",
      "2023-03-30 13:27:44,231 - stpipe.RefPixStep - INFO - side_smoothing_length = 11\n",
      "2023-03-30 13:27:44,231 - stpipe.RefPixStep - INFO - side_gain = 1.0\n",
      "2023-03-30 13:27:44,232 - stpipe.RefPixStep - INFO - odd_even_rows = False\n",
      "2023-03-30 13:28:18,100 - stpipe.RefPixStep - INFO - Step RefPixStep done\n",
      "2023-03-30 13:28:18,117 - stpipe - CRITICAL - config: {'pre_hooks': [], 'post_hooks': [], 'output_file': None, 'output_dir': None, 'output_ext': '.fits', 'output_use_model': False, 'output_use_index': True, 'save_results': False, 'skip': False, 'suffix': None, 'search_output_file': True, 'input_dir': None, 'override_linearity': None}\n",
      "\n",
      "\n",
      "2023-03-30 13:28:18,118 - stpipe.LinearityStep - INFO - LinearityStep instance created.\n",
      "2023-03-30 13:28:18,267 - stpipe.LinearityStep - INFO - Step LinearityStep running with args (<RampModel(1524, 3, 32, 2048) from jw02512010001_04102_00001-seg001_nrs1_uncal.fits>,).\n",
      "2023-03-30 13:28:18,269 - stpipe.LinearityStep - INFO - Step LinearityStep parameters are: {'pre_hooks': [], 'post_hooks': [], 'output_file': None, 'output_dir': None, 'output_ext': '.fits', 'output_use_model': False, 'output_use_index': True, 'save_results': False, 'skip': False, 'suffix': None, 'search_output_file': True, 'input_dir': ''}\n",
      "2023-03-30 13:28:18,318 - stpipe.LinearityStep - INFO - Using Linearity reference file /home/ym20900/crds_cache/references/jwst/nirspec/jwst_nirspec_linearity_0024.fits\n",
      "2023-03-30 13:28:18,514 - stpipe.LinearityStep - WARNING - Keyword BAD_LIN_CORR does not correspond to an existing DQ mnemonic, so will be ignored\n",
      "2023-03-30 13:28:23,698 - stpipe.LinearityStep - INFO - Results used CRDS context: jwst_1075.pmap\n",
      "2023-03-30 13:28:23,700 - stpipe.LinearityStep - INFO - Step LinearityStep done\n",
      "2023-03-30 13:28:23,718 - stpipe - CRITICAL - config: {'pre_hooks': [], 'post_hooks': [], 'output_file': None, 'output_dir': None, 'output_ext': '.fits', 'output_use_model': False, 'output_use_index': True, 'save_results': False, 'skip': False, 'suffix': None, 'search_output_file': True, 'input_dir': None, 'dark_output': None, 'override_dark': None}\n",
      "\n",
      "\n",
      "2023-03-30 13:28:23,720 - stpipe.DarkCurrentStep - INFO - DarkCurrentStep instance created.\n",
      "2023-03-30 13:28:23,847 - stpipe.DarkCurrentStep - INFO - Step DarkCurrentStep running with args (<RampModel(1524, 3, 32, 2048) from jw02512010001_04102_00001-seg001_nrs1_uncal.fits>,).\n",
      "2023-03-30 13:28:23,849 - stpipe.DarkCurrentStep - INFO - Step DarkCurrentStep parameters are: {'pre_hooks': [], 'post_hooks': [], 'output_file': None, 'output_dir': None, 'output_ext': '.fits', 'output_use_model': False, 'output_use_index': True, 'save_results': False, 'skip': False, 'suffix': None, 'search_output_file': True, 'input_dir': '', 'dark_output': None}\n",
      "2023-03-30 13:28:23,877 - stpipe.DarkCurrentStep - INFO - Using DARK reference file /home/ym20900/crds_cache/references/jwst/nirspec/jwst_nirspec_dark_0298.fits\n",
      "2023-03-30 13:28:24,207 - stpipe.DarkCurrentStep - INFO - Science data nints=1524, ngroups=3, nframes=1, groupgap=0\n",
      "2023-03-30 13:28:24,208 - stpipe.DarkCurrentStep - INFO - Dark data nints=1, ngroups=120, nframes=1, groupgap=0\n",
      "2023-03-30 13:28:30,489 - stpipe.DarkCurrentStep - INFO - Results used CRDS context: jwst_1075.pmap\n",
      "2023-03-30 13:28:30,490 - stpipe.DarkCurrentStep - INFO - Step DarkCurrentStep done\n",
      "2023-03-30 13:28:30,508 - CRDS - INFO -  Fetching  /home/ym20900/crds_cache/references/jwst/nirspec/jwst_nirspec_pars-jumpstep_0002.asdf    1.2 K bytes  (1 / 1 files) (0 / 1.2 K bytes)\n",
      "2023-03-30 13:28:30,821 - stpipe - INFO - PARS-JUMPSTEP parameters found: /home/ym20900/crds_cache/references/jwst/nirspec/jwst_nirspec_pars-jumpstep_0002.asdf\n",
      "2023-03-30 13:28:30,864 - stpipe - WARNING - /home/ym20900/miniconda3/envs/jwst/lib/python3.10/site-packages/asdf/asdf.py:348: AsdfWarning: File 'file:///home/ym20900/crds_cache/references/jwst/nirspec/jwst_nirspec_pars-jumpstep_0002.asdf' was created with extension class 'asdf.extension.BuiltinExtension' (from package asdf==2.14.1), but older package (asdf==2.12.0) is installed.\n",
      "  warnings.warn(msg, AsdfWarning)\n",
      "\n"
     ]
    },
    {
     "ename": "ValidationError",
     "evalue": "Extra value 'after_jump_flag_dn1' in root",
     "output_type": "error",
     "traceback": [
      "\u001b[0;31m---------------------------------------------------------------------------\u001b[0m",
      "\u001b[0;31mValidationError\u001b[0m                           Traceback (most recent call last)",
      "Input \u001b[0;32mIn [7]\u001b[0m, in \u001b[0;36m<cell line: 18>\u001b[0;34m()\u001b[0m\n\u001b[1;32m     41\u001b[0m proc \u001b[38;5;241m=\u001b[39m stsci_linearity\u001b[38;5;241m.\u001b[39mcall(proc)\n\u001b[1;32m     42\u001b[0m proc \u001b[38;5;241m=\u001b[39m stsci_dark_current\u001b[38;5;241m.\u001b[39mcall(proc)\n\u001b[0;32m---> 43\u001b[0m proc \u001b[38;5;241m=\u001b[39m \u001b[43mstsci_jump\u001b[49m\u001b[38;5;241;43m.\u001b[39;49m\u001b[43mcall\u001b[49m\u001b[43m(\u001b[49m\n\u001b[1;32m     44\u001b[0m \u001b[43m    \u001b[49m\u001b[43mproc\u001b[49m\u001b[43m,\u001b[49m\u001b[43m \u001b[49m\u001b[43mrejection_threshold\u001b[49m\u001b[38;5;241;43m=\u001b[39;49m\u001b[38;5;241;43m40.\u001b[39;49m\u001b[43m,\u001b[49m\u001b[43m \u001b[49m\u001b[38;5;66;43;03m# RAMP JUMP REJECTION THRESHOLD\u001b[39;49;00m\n\u001b[1;32m     45\u001b[0m \u001b[43m    \u001b[49m\u001b[43mflag_4_neighbors\u001b[49m\u001b[38;5;241;43m=\u001b[39;49m\u001b[38;5;28;43;01mTrue\u001b[39;49;00m\u001b[43m,\u001b[49m\u001b[43m \u001b[49m\u001b[43mmin_jump_to_flag_neighbors\u001b[49m\u001b[38;5;241;43m=\u001b[39;49m\u001b[38;5;241;43m40.\u001b[39;49m\u001b[43m,\u001b[49m\n\u001b[1;32m     46\u001b[0m \u001b[43m    \u001b[49m\u001b[43mthree_group_rejection_threshold\u001b[49m\u001b[38;5;241;43m=\u001b[39;49m\u001b[38;5;241;43m40.\u001b[39;49m\u001b[43m,\u001b[49m\u001b[43m \u001b[49m\u001b[43mfour_group_rejection_threshold\u001b[49m\u001b[38;5;241;43m=\u001b[39;49m\u001b[38;5;241;43m40.\u001b[39;49m\u001b[43m,\u001b[49m\n\u001b[1;32m     47\u001b[0m \u001b[43m    \u001b[49m\u001b[43mexpand_large_events\u001b[49m\u001b[38;5;241;43m=\u001b[39;49m\u001b[38;5;28;43;01mFalse\u001b[39;49;00m\u001b[43m,\u001b[49m\u001b[43m \u001b[49m\u001b[43mskip\u001b[49m\u001b[38;5;241;43m=\u001b[39;49m\u001b[38;5;28;43;01mFalse\u001b[39;49;00m\u001b[43m)\u001b[49m\n\u001b[1;32m     48\u001b[0m proc \u001b[38;5;241m=\u001b[39m custom_destriping_groups\u001b[38;5;241m.\u001b[39mcall(\n\u001b[1;32m     49\u001b[0m     proc,\n\u001b[1;32m     50\u001b[0m     start_trace_col\u001b[38;5;241m=\u001b[39m\u001b[38;5;241m606\u001b[39m, end_trace_col\u001b[38;5;241m=\u001b[39m\u001b[38;5;241m2042\u001b[39m,\n\u001b[0;32m   (...)\u001b[0m\n\u001b[1;32m     53\u001b[0m     keep_mean_bkd_level\u001b[38;5;241m=\u001b[39m\u001b[38;5;28;01mFalse\u001b[39;00m,\n\u001b[1;32m     54\u001b[0m     draw_mask\u001b[38;5;241m=\u001b[39m\u001b[38;5;28;01mFalse\u001b[39;00m)\n\u001b[1;32m     55\u001b[0m _, proc \u001b[38;5;241m=\u001b[39m stsci_ramp_fit\u001b[38;5;241m.\u001b[39mcall(proc)\n",
      "File \u001b[0;32m~/miniconda3/envs/jwst/lib/python3.10/site-packages/stpipe/step.py:654\u001b[0m, in \u001b[0;36mStep.call\u001b[0;34m(cls, *args, **kwargs)\u001b[0m\n\u001b[1;32m    651\u001b[0m     \u001b[38;5;28;01mdel\u001b[39;00m config[\u001b[38;5;124m'\u001b[39m\u001b[38;5;124mlogcfg\u001b[39m\u001b[38;5;124m'\u001b[39m]\n\u001b[1;32m    653\u001b[0m name \u001b[38;5;241m=\u001b[39m config\u001b[38;5;241m.\u001b[39mget(\u001b[38;5;124m'\u001b[39m\u001b[38;5;124mname\u001b[39m\u001b[38;5;124m'\u001b[39m, \u001b[38;5;28;01mNone\u001b[39;00m)\n\u001b[0;32m--> 654\u001b[0m instance \u001b[38;5;241m=\u001b[39m \u001b[38;5;28;43mcls\u001b[39;49m\u001b[38;5;241;43m.\u001b[39;49m\u001b[43mfrom_config_section\u001b[49m\u001b[43m(\u001b[49m\u001b[43mconfig\u001b[49m\u001b[43m,\u001b[49m\n\u001b[1;32m    655\u001b[0m \u001b[43m    \u001b[49m\u001b[43mname\u001b[49m\u001b[38;5;241;43m=\u001b[39;49m\u001b[43mname\u001b[49m\u001b[43m,\u001b[49m\u001b[43m \u001b[49m\u001b[43mconfig_file\u001b[49m\u001b[38;5;241;43m=\u001b[39;49m\u001b[43mconfig_file\u001b[49m\u001b[43m,\u001b[49m\u001b[43m \u001b[49m\u001b[43mparam_args\u001b[49m\u001b[38;5;241;43m=\u001b[39;49m\u001b[43mkwargs\u001b[49m\u001b[43m)\u001b[49m\n\u001b[1;32m    657\u001b[0m \u001b[38;5;28;01mreturn\u001b[39;00m instance\u001b[38;5;241m.\u001b[39mrun(\u001b[38;5;241m*\u001b[39margs)\n",
      "File \u001b[0;32m~/miniconda3/envs/jwst/lib/python3.10/site-packages/stpipe/step.py:241\u001b[0m, in \u001b[0;36mStep.from_config_section\u001b[0;34m(cls, config, parent, name, config_file, **kwargs)\u001b[0m\n\u001b[1;32m    209\u001b[0m \u001b[38;5;129m@classmethod\u001b[39m\n\u001b[1;32m    210\u001b[0m \u001b[38;5;28;01mdef\u001b[39;00m \u001b[38;5;21mfrom_config_section\u001b[39m(\u001b[38;5;28mcls\u001b[39m, config, parent\u001b[38;5;241m=\u001b[39m\u001b[38;5;28;01mNone\u001b[39;00m, name\u001b[38;5;241m=\u001b[39m\u001b[38;5;28;01mNone\u001b[39;00m,\n\u001b[1;32m    211\u001b[0m                         config_file\u001b[38;5;241m=\u001b[39m\u001b[38;5;28;01mNone\u001b[39;00m, \u001b[38;5;241m*\u001b[39m\u001b[38;5;241m*\u001b[39mkwargs):\n\u001b[1;32m    212\u001b[0m     \u001b[38;5;124;03m\"\"\"\u001b[39;00m\n\u001b[1;32m    213\u001b[0m \u001b[38;5;124;03m    Create a step from a configuration file fragment.\u001b[39;00m\n\u001b[1;32m    214\u001b[0m \n\u001b[0;32m   (...)\u001b[0m\n\u001b[1;32m    238\u001b[0m \u001b[38;5;124;03m        set as member variables on the returned `Step` instance.\u001b[39;00m\n\u001b[1;32m    239\u001b[0m \u001b[38;5;124;03m    \"\"\"\u001b[39;00m\n\u001b[0;32m--> 241\u001b[0m     config \u001b[38;5;241m=\u001b[39m \u001b[38;5;28;43mcls\u001b[39;49m\u001b[38;5;241;43m.\u001b[39;49m\u001b[43mfinalize_config\u001b[49m\u001b[43m(\u001b[49m\u001b[43mconfig\u001b[49m\u001b[43m,\u001b[49m\u001b[43m \u001b[49m\u001b[43mname\u001b[49m\u001b[38;5;241;43m=\u001b[39;49m\u001b[38;5;28;43;01mNone\u001b[39;49;00m\u001b[43m,\u001b[49m\u001b[43m \u001b[49m\u001b[43mconfig_file\u001b[49m\u001b[38;5;241;43m=\u001b[39;49m\u001b[38;5;28;43;01mNone\u001b[39;49;00m\u001b[43m)\u001b[49m\n\u001b[1;32m    243\u001b[0m     log\u001b[38;5;241m.\u001b[39mlog\u001b[38;5;241m.\u001b[39mcritical(\u001b[38;5;124mf\u001b[39m\u001b[38;5;124m\"\u001b[39m\u001b[38;5;124mconfig: \u001b[39m\u001b[38;5;132;01m{\u001b[39;00mconfig\u001b[38;5;132;01m}\u001b[39;00m\u001b[38;5;130;01m\\n\u001b[39;00m\u001b[38;5;130;01m\\n\u001b[39;00m\u001b[38;5;124m\"\u001b[39m)\n\u001b[1;32m    245\u001b[0m     step \u001b[38;5;241m=\u001b[39m \u001b[38;5;28mcls\u001b[39m(\n\u001b[1;32m    246\u001b[0m         name\u001b[38;5;241m=\u001b[39mname,\n\u001b[1;32m    247\u001b[0m         parent\u001b[38;5;241m=\u001b[39mparent,\n\u001b[1;32m    248\u001b[0m         config_file\u001b[38;5;241m=\u001b[39mconfig_file,\n\u001b[1;32m    249\u001b[0m         _validate_kwds\u001b[38;5;241m=\u001b[39m\u001b[38;5;28;01mFalse\u001b[39;00m,\n\u001b[1;32m    250\u001b[0m         \u001b[38;5;241m*\u001b[39m\u001b[38;5;241m*\u001b[39mconfig)\n",
      "File \u001b[0;32m~/miniconda3/envs/jwst/lib/python3.10/site-packages/stpipe/step.py:300\u001b[0m, in \u001b[0;36mStep.finalize_config\u001b[0;34m(cls, config, name, config_file, merge, validate)\u001b[0m\n\u001b[1;32m    298\u001b[0m     config \u001b[38;5;241m=\u001b[39m \u001b[38;5;28mcls\u001b[39m\u001b[38;5;241m.\u001b[39mmerge_config(config, config_file)\n\u001b[1;32m    299\u001b[0m \u001b[38;5;28;01mif\u001b[39;00m validate:\n\u001b[0;32m--> 300\u001b[0m     \u001b[43mconfig_parser\u001b[49m\u001b[38;5;241;43m.\u001b[39;49m\u001b[43mvalidate\u001b[49m\u001b[43m(\u001b[49m\n\u001b[1;32m    301\u001b[0m \u001b[43m        \u001b[49m\u001b[43mconfig\u001b[49m\u001b[43m,\u001b[49m\u001b[43m \u001b[49m\u001b[43mspec\u001b[49m\u001b[43m,\u001b[49m\u001b[43m \u001b[49m\u001b[43mroot_dir\u001b[49m\u001b[38;5;241;43m=\u001b[39;49m\u001b[43mdirname\u001b[49m\u001b[43m(\u001b[49m\u001b[43mconfig_file\u001b[49m\u001b[43m \u001b[49m\u001b[38;5;129;43;01mor\u001b[39;49;00m\u001b[43m \u001b[49m\u001b[38;5;124;43m'\u001b[39;49m\u001b[38;5;124;43m'\u001b[39;49m\u001b[43m)\u001b[49m\u001b[43m)\u001b[49m\n\u001b[1;32m    303\u001b[0m \u001b[38;5;28;01mif\u001b[39;00m \u001b[38;5;124m'\u001b[39m\u001b[38;5;124mconfig_file\u001b[39m\u001b[38;5;124m'\u001b[39m \u001b[38;5;129;01min\u001b[39;00m config:\n\u001b[1;32m    304\u001b[0m     \u001b[38;5;28;01mdel\u001b[39;00m config[\u001b[38;5;124m'\u001b[39m\u001b[38;5;124mconfig_file\u001b[39m\u001b[38;5;124m'\u001b[39m]\n",
      "File \u001b[0;32m~/miniconda3/envs/jwst/lib/python3.10/site-packages/stpipe/config_parser.py:377\u001b[0m, in \u001b[0;36mvalidate\u001b[0;34m(config, spec, section, validator, root_dir, allow_missing)\u001b[0m\n\u001b[1;32m    372\u001b[0m         messages\u001b[38;5;241m.\u001b[39mappend(\n\u001b[1;32m    373\u001b[0m             \u001b[38;5;124m\"\u001b[39m\u001b[38;5;124mExtra value \u001b[39m\u001b[38;5;132;01m{0!r}\u001b[39;00m\u001b[38;5;124m in \u001b[39m\u001b[38;5;132;01m{1}\u001b[39;00m\u001b[38;5;124m\"\u001b[39m\u001b[38;5;241m.\u001b[39mformat(\n\u001b[1;32m    374\u001b[0m                 name, sections))\n\u001b[1;32m    376\u001b[0m     \u001b[38;5;28;01mif\u001b[39;00m \u001b[38;5;28mlen\u001b[39m(messages):\n\u001b[0;32m--> 377\u001b[0m         \u001b[38;5;28;01mraise\u001b[39;00m ValidationError(\u001b[38;5;124m'\u001b[39m\u001b[38;5;130;01m\\n\u001b[39;00m\u001b[38;5;124m'\u001b[39m\u001b[38;5;241m.\u001b[39mjoin(messages))\n\u001b[1;32m    378\u001b[0m \u001b[38;5;28;01mfinally\u001b[39;00m:\n\u001b[1;32m    379\u001b[0m     config\u001b[38;5;241m.\u001b[39mmain\u001b[38;5;241m.\u001b[39mconfigspec \u001b[38;5;241m=\u001b[39m orig_configspec\n",
      "\u001b[0;31mValidationError\u001b[0m: Extra value 'after_jump_flag_dn1' in root"
     ]
    }
   ],
   "source": [
    "# Instantiate STScI steps for NIRSpec stage 1.\n",
    "stsci_group_scale = calwebb_detector1.group_scale_step.GroupScaleStep()\n",
    "stsci_dq_init = calwebb_detector1.dq_init_step.DQInitStep()\n",
    "stsci_saturation = calwebb_detector1.saturation_step.SaturationStep()\n",
    "stsci_superbias = calwebb_detector1.superbias_step.SuperBiasStep()\n",
    "stsci_refpix = calwebb_detector1.refpix_step.RefPixStep()\n",
    "stsci_linearity = calwebb_detector1.linearity_step.LinearityStep()\n",
    "stsci_dark_current = calwebb_detector1.dark_current_step.DarkCurrentStep()\n",
    "stsci_jump = calwebb_detector1.jump_step.JumpStep()\n",
    "stsci_ramp_fit = calwebb_detector1.ramp_fit_step.RampFitStep()\n",
    "stsci_gain_scale = calwebb_detector1.gain_scale_step.GainScaleStep()\n",
    "\n",
    "# Instantiate Custom steps for NIRSpec stage 1.\n",
    "custom_bias = CustomBiasStep()\n",
    "custom_destriping_groups = DestripingGroupsStep()\n",
    "\n",
    "# Iterate data chunks.\n",
    "for data_chunk_name in data_chunk_names:\n",
    "    print()\n",
    "    print()\n",
    "    print('\\n=======================\\n')\n",
    "    print('\\n========= ~ ~ ~ ~ ~ ~ ~\\n')\n",
    "    print('\\n========= Working on {} =========\\n'.format(data_chunk_name))\n",
    "    print('\\n========= ~ ~ ~ ~ ~ ~ ~ \\n')\n",
    "    print('\\n========================\\n')\n",
    "    print()\n",
    "    print()\n",
    "\n",
    "    # Read in chunk.\n",
    "    raw_data_chunk = os.path.join(\n",
    "        data_dir, '{}_uncal.fits'.format(data_chunk_name))\n",
    "    dm_raw = datamodels.RampModel(raw_data_chunk)\n",
    "\n",
    "    # Stage 1 reduction.\n",
    "    proc = stsci_group_scale.call(dm_raw)\n",
    "    proc = stsci_dq_init.call(proc)\n",
    "    proc = stsci_saturation.call(proc, n_pix_grow_sat=1)\n",
    "    # proc = stsci_superbias.call(proc)\n",
    "    proc = custom_bias.call(proc)\n",
    "    proc = stsci_refpix.call(proc, odd_even_columns=True)\n",
    "    proc = stsci_linearity.call(proc)\n",
    "    proc = stsci_dark_current.call(proc)\n",
    "    proc = stsci_jump.call(\n",
    "        proc, rejection_threshold=15., # RAMP JUMP REJECTION THRESHOLD\n",
    "        flag_4_neighbors=True, min_jump_to_flag_neighbors=10.,\n",
    "        three_group_rejection_threshold=15., four_group_rejection_threshold=15.,\n",
    "        expand_large_events=False, skip=False)\n",
    "    proc = custom_destriping_groups.call(\n",
    "        proc,\n",
    "        start_trace_col=606, end_trace_col=2042,\n",
    "        poly_order=2, n_sigma_trace_mask=15.,\n",
    "        dq_bits=[0, 1, 2, 10, 11, 13, 19],\n",
    "        keep_mean_bkd_level=False,\n",
    "        draw_mask=False)\n",
    "    _, proc = stsci_ramp_fit.call(proc)\n",
    "    stage_1_output = stsci_gain_scale.call(proc)\n",
    "    stage_1_output.save(path=os.path.join(\n",
    "        stage_1_dir, '{}_stage_1.fits'.format(data_chunk_name)))"
   ]
  },
  {
   "cell_type": "markdown",
   "id": "9517b71f",
   "metadata": {},
   "source": [
    "Make a quick and dirty light curve and check out the noise-y-ness"
   ]
  },
  {
   "cell_type": "code",
   "execution_count": 14,
   "id": "6de8189c",
   "metadata": {},
   "outputs": [
    {
     "name": "stdout",
     "output_type": "stream",
     "text": [
      "Running intrapixel extraction on 5259 spectra\n",
      "No flat fielding is being performed at this time\n",
      "No 1/f noise correction is being performed\n"
     ]
    },
    {
     "name": "stderr",
     "output_type": "stream",
     "text": [
      "100%|█████████████████████████████████████████████████████████████████████████████████| 5259/5259 [01:31<00:00, 57.24it/s]\n"
     ]
    },
    {
     "data": {
      "image/png": "[encoded data removed]",
      "text/plain": [
       "<Figure size 432x288 with 1 Axes>"
      ]
     },
     "metadata": {
      "needs_background": "light"
     },
     "output_type": "display_data"
    },
    {
     "name": "stdout",
     "output_type": "stream",
     "text": [
      "Sdev before tilt (pre transit) =  265.5605615643958  ppm\n",
      "Sdev after tilt (post transit) =  226.49451888046065  ppm\n"
     ]
    }
   ],
   "source": [
    "upper_ap, lower_ap, trace_pos = np.loadtxt('NRS1_aperture.txt', unpack=True)\n",
    "\n",
    "data_files_path = stage_1_dir #point to where the data is\n",
    "rateints_files_nrs1 = glob.glob(data_files_path+'*nrs1_stage_1.fits')\n",
    "\n",
    "ancillary_files = ancillary_dir\n",
    "times = np.loadtxt(ancillary_files + 'jw02512010001_04102_0000_nrs1_all_segs_times.txt')\n",
    "\n",
    "midtime_bjd = times[:,5]\n",
    "\n",
    "# Get the integration time from the time file for error calculation\n",
    "integration_time = np.median(abs((times[:,4]-times[:,6])*24*60*60))\n",
    "\n",
    "trimming = 500\n",
    "\n",
    "sci_cube, _ = jedi.unsegment(sorted(rateints_files_nrs1), 1)\n",
    "sci_cube = sci_cube[:,:,trimming:-5]\n",
    "\n",
    "all_spectra, _, _, _ = jedi.get_stellar_spectra(sci_cube, upper_ap+2, lower_ap+2, \\\n",
    "                                                          flat=None, f_mask=None, \\\n",
    "                                                          extract_method=\"intrapixel\",  \\\n",
    "                                                          shift=False, plot=False, set_to_edge = True)\n",
    "\n",
    "\n",
    "pre_transit = 1500 # These should be specific to your observation\n",
    "pst_transit = 3700\n",
    "\n",
    "lc = np.sum(all_spectra, axis=1)/np.sum(all_spectra[-1])\n",
    "\n",
    "plt.figure()\n",
    "plt.plot(midtime_bjd[10:], lc[10:], ls='none',marker='.')\n",
    "\n",
    "plt.plot(midtime_bjd[10:pre_transit], lc[10:pre_transit], ls='none',marker='.')\n",
    "plt.plot(midtime_bjd[pst_transit:], lc[pst_transit:], ls='none',marker='.')\n",
    "\n",
    "\n",
    "plt.xlabel(\"Time\")\n",
    "plt.ylabel(\"Flux\")\n",
    "\n",
    "plt.show()\n",
    "\n",
    "sdev_lcs = np.std(lc[10:pre_transit])\n",
    "sdev_lce = np.std(lc[pst_transit:])\n",
    "\n",
    "print('Sdev before tilt (pre transit) = ', sdev_lcs*1e6, ' ppm')\n",
    "print('Sdev after tilt (post transit) = ', sdev_lce*1e6, ' ppm')"
   ]
  }
 ],
 "metadata": {
  "kernelspec": {
   "display_name": "Python 3 (ipykernel)",
   "language": "python",
   "name": "python3"
  },
  "language_info": {
   "codemirror_mode": {
    "name": "ipython",
    "version": 3
   },
   "file_extension": ".py",
   "mimetype": "text/x-python",
   "name": "python",
   "nbconvert_exporter": "python",
   "pygments_lexer": "ipython3",
   "version": "3.8.12"
  }
 },
 "nbformat": 4,
 "nbformat_minor": 5
}
